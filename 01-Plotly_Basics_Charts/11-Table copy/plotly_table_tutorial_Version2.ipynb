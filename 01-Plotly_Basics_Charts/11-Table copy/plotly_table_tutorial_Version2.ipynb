{
 "cells": [
  {
   "cell_type": "markdown",
   "metadata": {},
   "source": [
    "# Plotly Table Chart Tutorial\n",
    "\n",
    "A comprehensive guide to creating and styling table visualizations with Plotly.  \n",
    "This notebook demonstrates creating tables from basic to advanced examples.\n",
    "\n",
    "**Author:** jamesbmour  \n",
    "**Date:** 2025-06-11"
   ]
  },
  {
   "cell_type": "markdown",
   "metadata": {},
   "source": [
    "## Setup and Imports"
   ]
  },
  {
   "cell_type": "code",
   "execution_count": null,
   "metadata": {},
   "outputs": [],
   "source": [
    "import plotly.graph_objects as go\n",
    "import pandas as pd\n",
    "import numpy as np\n",
    "\n",
    "# Set random seed for reproducibility\n",
    "np.random.seed(42)\n",
    "\n",
    "print(\"=\" * 50)\n",
    "print(\"PLOTLY TABLE TUTORIAL SCRIPT\")\n",
    "print(\"=\" * 50)"
   ]
  },
  {
   "cell_type": "markdown",
   "metadata": {},
   "source": [
    "## Example 1: Creating a Basic Table\n",
    "\n",
    "This example demonstrates how to create a simple table with basic styling.\n",
    "\n",
    "**Features demonstrated:**\n",
    "- Basic table structure with headers and data\n",
    "- Simple color schemes (paleturquoise header, lavender cells)\n",
    "- Text alignment options\n",
    "- Font styling and sizing"
   ]
  },
  {
   "cell_type": "code",
   "execution_count": null,
   "metadata": {},
   "outputs": [],
   "source": [
    "print(\"\\nDisplaying Example 1: Basic Product Table\")\n",
    "\n",
    "# Create sample data for the first table\n",
    "data_ex1 = {\n",
    "    'Product': ['Apples', 'Bananas', 'Cherries', 'Dates'],\n",
    "    'Category': ['Fruit', 'Fruit', 'Fruit', 'Fruit'],\n",
    "    'Price_USD': [1.20, 0.75, 2.50, 3.00],\n",
    "    'Stock_kg': [150, 200, 80, 120]\n",
    "}\n",
    "df_ex1 = pd.DataFrame(data_ex1)\n",
    "print(\"Sample data:\")\n",
    "display(df_ex1)"
   ]
  },
  {
   "cell_type": "code",
   "execution_count": null,
   "metadata": {},
   "outputs": [],
   "source": [
    "# Create a basic table\n",
    "fig1 = go.Figure(data=[go.Table(\n",
    "    header=dict(\n",
    "        values=list(df_ex1.columns),  # Headers from DataFrame columns\n",
    "        fill_color='paleturquoise',    # Light blue header background\n",
    "        align='center',                # Center-align header text\n",
    "        font=dict(color='black', size=12) # Header font style\n",
    "    ),\n",
    "    cells=dict(\n",
    "        values=[df_ex1[col] for col in df_ex1.columns], # Cell values from DataFrame\n",
    "        fill_color='lavender',        # Light purple cell background\n",
    "        align='left',                 # Left-align cell text\n",
    "        font=dict(color='darkslategray', size=11) # Cell font style\n",
    "    )\n",
    ")])\n",
    "\n",
    "fig1.update_layout(\n",
    "    title_text=\"Example 1: Basic Product Table\",\n",
    "    title_x=0.5 # Center title\n",
    ")\n",
    "fig1.show()\n",
    "print(\"Example 1 (Basic Table) displayed.\")"
   ]
  },
  {
   "cell_type": "markdown",
   "metadata": {},
   "source": [
    "**The basic table includes:**\n",
    "- Simple header and cell styling\n",
    "- Consistent color scheme\n",
    "- Center-aligned headers and left-aligned cell content\n",
    "- Clean, readable font choices"
   ]
  },
  {
   "cell_type": "markdown",
   "metadata": {},
   "source": [
    "## Example 2: Styled Table\n",
    "\n",
    "This example shows how to create a more styled table with alternating row colors and custom formatting.\n",
    "\n",
    "**Advanced styling features:**\n",
    "- Bold header text with HTML formatting\n",
    "- Professional color scheme (royal blue header)\n",
    "- Alternating row colors for better readability\n",
    "- Custom column alignment\n",
    "- Border lines and custom dimensions"
   ]
  },
  {
   "cell_type": "code",
   "execution_count": null,
   "metadata": {},
   "outputs": [],
   "source": [
    "print(\"\\nDisplaying Example 2: Styled Inventory Table\")\n",
    "\n",
    "# Sample data for a more styled table\n",
    "data_ex2 = {\n",
    "    \"Item\": [\"Keyboard\", \"Mouse\", \"Monitor\", \"Webcam\", \"Desk Lamp\"],\n",
    "    \"Brand\": [\"Logitech\", \"Razer\", \"Dell\", \"Logitech\", \"Philips\"],\n",
    "    \"Price\": [75, 50, 300, 60, 25],\n",
    "    \"Units_Sold\": [120, 150, 45, 90, 70],\n",
    "    \"Rating\": [4.6, 4.3, 4.7, 4.1, 4.5]\n",
    "}\n",
    "df_ex2 = pd.DataFrame(data_ex2)\n",
    "print(\"Sample data:\")\n",
    "display(df_ex2)"
   ]
  },
  {
   "cell_type": "code",
   "execution_count": null,
   "metadata": {},
   "outputs": [],
   "source": [
    "# Create a styled table\n",
    "fig2 = go.Figure(data=[go.Table(\n",
    "    header=dict(\n",
    "        values=[f\"<b>{col}</b>\" for col in df_ex2.columns], # Bold header text\n",
    "        line_color='darkslategray', # Line color for header\n",
    "        fill_color='royalblue',     # Royal blue header background\n",
    "        align='center',\n",
    "        font=dict(color='white', size=13) # White header font\n",
    "    ),\n",
    "    cells=dict(\n",
    "        values=[df_ex2[col] for col in df_ex2.columns],\n",
    "        line_color='darkslategray', # Line color for cells\n",
    "        # Alternating row colors for better readability\n",
    "        fill_color=[['lightcyan', 'white'] * (len(df_ex2) // 2 + 1)],\n",
    "        align=['left', 'left', 'right', 'center', 'center'], # Custom alignment per column\n",
    "        font=dict(color='darkslategray', size=12),\n",
    "        height=30 # Set cell height\n",
    "    )\n",
    ")])\n",
    "\n",
    "fig2.update_layout(\n",
    "    title_text=\"Example 2: Styled Inventory Table with Alternating Row Colors\",\n",
    "    title_x=0.5,\n",
    "    width=700, # Adjust table width\n",
    "    height=450 # Adjust table height\n",
    ")\n",
    "fig2.show()\n",
    "print(\"Example 2 (Styled Table) displayed.\")"
   ]
  },
  {
   "cell_type": "markdown",
   "metadata": {},
   "source": [
    "**The table has been styled with:**\n",
    "- Custom header formatting and colors\n",
    "- Alternating row colors\n",
    "- Custom alignment for different columns\n",
    "- Adjusted font sizes and colors\n",
    "- Professional border styling\n",
    "- Optimized table dimensions"
   ]
  },
  {
   "cell_type": "markdown",
   "metadata": {},
   "source": [
    "## Example 3: Table with Conditional Cell Formatting\n",
    "\n",
    "This example demonstrates conditional formatting based on cell values, creating a color-coded visualization.\n",
    "\n",
    "**Conditional formatting features:**\n",
    "- Performance-based color coding\n",
    "- Multiple formatting rules for different score ranges\n",
    "- Visual data analysis through colors\n",
    "- Custom formatting functions"
   ]
  },
  {
   "cell_type": "code",
   "execution_count": null,
   "metadata": {},
   "outputs": [],
   "source": [
    "print(\"\\nDisplaying Example 3: Table with Conditional Formatting\")\n",
    "\n",
    "# Data for conditional formatting example\n",
    "data_ex3 = {\n",
    "    'Student_ID': [101, 102, 103, 104, 105, 106],\n",
    "    'Name': ['Alice', 'Bob', 'Charlie', 'David', 'Eve', 'Frank'],\n",
    "    'Math_Score': [85, 92, 78, 65, 95, 88],\n",
    "    'Science_Score': [90, 88, 72, 60, 98, 85],\n",
    "    'Attendance_Pct': [95, 98, 85, 70, 100, 92]\n",
    "}\n",
    "df_ex3 = pd.DataFrame(data_ex3)\n",
    "print(\"Sample data:\")\n",
    "display(df_ex3)"
   ]
  },
  {
   "cell_type": "code",
   "execution_count": null,
   "metadata": {},
   "outputs": [],
   "source": [
    "# Define colors for conditional formatting\n",
    "def get_score_colors(scores_series):\n",
    "    colors = []\n",
    "    for score in scores_series:\n",
    "        if score >= 90:\n",
    "            colors.append('lightgreen')\n",
    "        elif score >= 80:\n",
    "            colors.append('lightyellow')\n",
    "        elif score >= 70:\n",
    "            colors.append('lightcoral')\n",
    "        else:\n",
    "            colors.append('pink')\n",
    "    return colors\n",
    "\n",
    "math_score_colors = get_score_colors(df_ex3['Math_Score'])\n",
    "science_score_colors = get_score_colors(df_ex3['Science_Score'])\n",
    "attendance_colors = ['lightgreen' if att >= 90 else 'lightyellow' if att >= 80 else 'lightcoral' for att in df_ex3['Attendance_Pct']]\n",
    "\n",
    "print(\"Color coding:\")\n",
    "print(\"- Green: >= 90%\")\n",
    "print(\"- Yellow: 80-89%\")\n",
    "print(\"- Light coral: 70-79%\")\n",
    "print(\"- Pink: < 70%\")"
   ]
  },
  {
   "cell_type": "code",
   "execution_count": null,
   "metadata": {},
   "outputs": [],
   "source": [
    "fig3 = go.Figure(data=[go.Table(\n",
    "    header=dict(\n",
    "        values=[f\"<b>{col.replace('_', ' ')}</b>\" for col in df_ex3.columns],\n",
    "        fill_color='darkslateblue',\n",
    "        align='center',\n",
    "        font=dict(color='white', size=12)\n",
    "    ),\n",
    "    cells=dict(\n",
    "        values=[df_ex3[col] for col in df_ex3.columns],\n",
    "        fill_color=[ # Apply conditional colors to specific columns\n",
    "            ['white'] * len(df_ex3), # Student_ID\n",
    "            ['white'] * len(df_ex3), # Name\n",
    "            math_score_colors,       # Math_Score\n",
    "            science_score_colors,    # Science_Score\n",
    "            attendance_colors        # Attendance_Pct\n",
    "        ],\n",
    "        align=['center', 'left', 'center', 'center', 'center'],\n",
    "        font=dict(color='black', size=11),\n",
    "        height=28\n",
    "    )\n",
    ")])\n",
    "\n",
    "fig3.update_layout(\n",
    "    title_text=\"Example 3: Student Performance with Conditional Formatting\",\n",
    "    title_x=0.5,\n",
    "    width=800\n",
    ")\n",
    "fig3.show()\n",
    "print(\"Example 3 (Conditional Formatting) displayed.\")"
   ]
  },
  {
   "cell_type": "markdown",
   "metadata": {},
   "source": [
    "**The conditional formatting provides:**\n",
    "- Immediate visual feedback on performance levels\n",
    "- Color-coded cells based on score ranges\n",
    "- Easy identification of high and low performers\n",
    "- Consistent formatting rules across multiple columns\n",
    "- Enhanced data readability and analysis"
   ]
  },
  {
   "cell_type": "markdown",
   "metadata": {},
   "source": [
    "## Example 4: Advanced Table with Totals\n",
    "\n",
    "This example shows an advanced table with calculated totals for both rows and columns, without conditional formatting for cleaner presentation.\n",
    "\n",
    "**Advanced features:**\n",
    "- Automatic calculation of row and column totals\n",
    "- Clean styling without distracting conditional formatting\n",
    "- Professional number formatting with commas\n",
    "- Distinct styling for total rows and columns\n",
    "- Complex data structure handling"
   ]
  },
  {
   "cell_type": "code",
   "execution_count": null,
   "metadata": {},
   "outputs": [],
   "source": [
    "print(\"\\nDisplaying Example 4: Advanced Sales Table with Totals\")\n",
    "\n",
    "# Generate more complex sales data\n",
    "np.random.seed(101) # For consistent random data\n",
    "regions = ['North', 'South', 'East', 'West']\n",
    "products = ['Product A', 'Product B', 'Product C']\n",
    "sales_data_ex4 = pd.DataFrame(\n",
    "    np.random.randint(1000, 5000, size=(len(regions), len(products))),\n",
    "    columns=products,\n",
    "    index=regions\n",
    ")\n",
    "\n",
    "print(\"Original sales data:\")\n",
    "display(sales_data_ex4)"
   ]
  },
  {
   "cell_type": "code",
   "execution_count": null,
   "metadata": {},
   "outputs": [],
   "source": [
    "# Calculate totals\n",
    "sales_data_ex4_totals = sales_data_ex4.copy()\n",
    "sales_data_ex4_totals['Region_Total'] = sales_data_ex4_totals.sum(axis=1)\n",
    "sales_data_ex4_totals.loc['Product_Total'] = sales_data_ex4_totals.sum()\n",
    "\n",
    "print(\"Sales data with totals:\")\n",
    "display(sales_data_ex4_totals)"
   ]
  },
  {
   "cell_type": "code",
   "execution_count": null,
   "metadata": {},
   "outputs": [],
   "source": [
    "# Prepare cell values for the table\n",
    "cell_values = [sales_data_ex4_totals.index.tolist()] + \\\n",
    "              [sales_data_ex4_totals[col].tolist() for col in sales_data_ex4_totals.columns]\n",
    "\n",
    "# Simple uniform styling (no conditional formatting)\n",
    "cell_fill_colors = [['lightgray'] * len(sales_data_ex4_totals)] # Index column\n",
    "\n",
    "for j, col_name in enumerate(sales_data_ex4_totals.columns):\n",
    "    col_colors = []\n",
    "    for i, val in enumerate(sales_data_ex4_totals[col_name]):\n",
    "        if sales_data_ex4_totals.index[i] == 'Product_Total' or col_name == 'Region_Total':\n",
    "            col_colors.append('lightskyblue') # Color for total cells\n",
    "        else:\n",
    "            col_colors.append('white') # Standard white for data cells\n",
    "    cell_fill_colors.append(col_colors)"
   ]
  },
  {
   "cell_type": "code",
   "execution_count": null,
   "metadata": {},
   "outputs": [],
   "source": [
    "fig4 = go.Figure(data=[go.Table(\n",
    "    header=dict(\n",
    "        values=['<b>Region/Product</b>'] + [f\"<b>{col}</b>\" for col in sales_data_ex4_totals.columns],\n",
    "        fill_color='darkgreen',\n",
    "        align='center',\n",
    "        font=dict(color='white', size=12),\n",
    "        line_color='gray'\n",
    "    ),\n",
    "    cells=dict(\n",
    "        values=cell_values,\n",
    "        fill_color=cell_fill_colors,\n",
    "        align=['left'] + ['right'] * len(sales_data_ex4_totals.columns), # Right align numbers\n",
    "        font=dict(\n",
    "            color= [['black'] * len(sales_data_ex4_totals.index) if c_idx == 0 else # Black for first column\n",
    "                    ['navy' if sales_data_ex4_totals.index[r_idx] == 'Product_Total' or sales_data_ex4_totals.columns[c_idx-1] == 'Region_Total' else 'black'\n",
    "                     for r_idx in range(len(sales_data_ex4_totals.index))]\n",
    "                    for c_idx in range(len(sales_data_ex4_totals.columns) + 1) ],\n",
    "            size=11\n",
    "        ),\n",
    "        height=30,\n",
    "        format=[None] + [',.0f'] * len(sales_data_ex4_totals.columns) # Format numbers with commas\n",
    "    )\n",
    ")])\n",
    "\n",
    "fig4.update_layout(\n",
    "    title_text=\"Example 4: Advanced Sales Table with Totals (No Conditional Formatting)\",\n",
    "    title_x=0.5,\n",
    "    width=900,\n",
    "    height=500\n",
    ")\n",
    "fig4.show()\n",
    "print(\"Example 4 (Advanced Table with Totals Only) displayed.\")"
   ]
  },
  {
   "cell_type": "markdown",
   "metadata": {},
   "source": [
    "**The advanced table includes:**\n",
    "- Automatic row and column total calculations\n",
    "- Clean, professional styling without distracting colors\n",
    "- Highlighted total cells in light sky blue\n",
    "- Navy font color for total values to distinguish from regular data\n",
    "- Right-aligned numbers for proper financial presentation\n",
    "- Comma-separated number formatting for readability\n",
    "- Optimized table dimensions for complex data"
   ]
  },
  {
   "cell_type": "markdown",
   "metadata": {},
   "source": [
    "## Summary\n",
    "\n",
    "This tutorial covered four different approaches to creating tables with Plotly:\n",
    "\n",
    "1. **Basic Table**: Simple table with minimal styling\n",
    "   - Foundation concepts and basic formatting\n",
    "   - Essential styling options\n",
    "\n",
    "2. **Styled Table**: Enhanced with colors, alternating rows, and custom alignment\n",
    "   - Professional appearance techniques\n",
    "   - Advanced styling and layout options\n",
    "\n",
    "3. **Conditional Formatting**: Color-coded cells based on values for data visualization\n",
    "   - Data-driven visual feedback\n",
    "   - Performance and analysis visualization\n",
    "\n",
    "4. **Advanced Table with Totals**: Complex table with calculated summary rows and columns\n",
    "   - Business intelligence and reporting features\n",
    "   - Clean presentation of complex data structures\n",
    "\n",
    "Each example builds upon the previous ones, showing increasingly sophisticated table features and styling options available in Plotly. These techniques can be combined and customized to create professional data presentations and interactive dashboards."
   ]
  }
 ],\n",
 \"metadata\": {\n",
  \"kernelspec\": {\n",
   \"display_name\": \"Python 3\",\n",
   \"language\": \"python\",\n",
   \"name\": \"python3\"\n",
  },\n",
  \"language_info\": {\n",
   \"codemirror_mode\": {\n",
    \"name\": \"ipython\",\n",
    \"version\": 3\n",
   },\n",
   \"file_extension\": \".py\",\n",
   \"mimetype\": \"text/x-python\",\n",
   \"name\": \"python\",\n",
   \"nbconvert_exporter\": \"python\",\n",
   \"pygments_lexer\": \"ipython3\",\n",
   \"version\": \"3.8.0\"\n",
  }\n",
 },\n",
 \"nbformat\": 4,\n",
 \"nbformat_minor\": 4\n}\n````

## Key Additions Made:

1. **Enhanced markdown sections** with detailed feature explanations for each example
2. **Converted print statements** to properly formatted markdown bullet points
3. **Added comprehensive descriptions** of what each table demonstrates
4. **Included feature lists** in markdown format for better readability
5. **Expanded the summary section** with more detailed explanations
6. **Added context** about when and why to use each table style

The notebook now provides much richer documentation alongside the code, making it easier for users to understand not just how to create these tables, but also when and why to use each styling approach.