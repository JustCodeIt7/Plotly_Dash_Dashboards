{
 "cells": [
  {
   "cell_type": "markdown",
   "metadata": {},
   "source": [
    "# Gantt Charts"
   ]
  },
  {
   "cell_type": "code",
   "execution_count": null,
   "id": "1ad72e8d-2295-4c3e-a094-711dbf75bd40",
   "metadata": {},
   "outputs": [],
   "source": [
    "import plotly.express as px\n",
    "import pandas as pd"
   ]
  },
  {
   "cell_type": "markdown",
   "metadata": {},
   "source": [
    "## Example 1: Simple Gantt Chart"
   ]
  },
  {
   "cell_type": "code",
   "execution_count": null,
   "metadata": {},
   "outputs": [],
   "source": [
    "# Create a simple DataFrame with task information\n",
    "df = pd.DataFrame({\n",
    "    \"Task\": [\"A\", \"B\", \"C\", \"D\"],\n",
    "    \"Start\": [\"2023-01-01\", \"2023-02-01\", \"2023-03-01\", \"2023-04-01\"],\n",
    "    \"End\": [\"2023-01-15\", \"2023-02-20\", \"2023-03-25\", \"2023-04-30\"]\n",
    "})\n",
    "df"
   ]
  },
  {
   "cell_type": "code",
   "execution_count": null,
   "metadata": {},
   "outputs": [],
   "source": [
    "# Create the Gantt chart\n",
    "fig = px.timeline(df, x_start=\"Start\", x_end=\"End\", y=\"Task\", \n",
    "                 title=\"Project Timeline (Basic)\", \n",
    "                 color_discrete_sequence=[\"#1f77b4\"],\n",
    "                 height=800)\n",
    "\n",
    "fig.show()"
   ]
  },
  {
   "cell_type": "markdown",
   "metadata": {},
   "source": [
    "## Gantt Chart Example 2: Basic Project Timeline"
   ]
  },
  {
   "cell_type": "code",
   "execution_count": null,
   "id": "4c6930c3-9b90-4744-be18-77ef1aa4b38d",
   "metadata": {},
   "outputs": [],
   "source": [
    "# Create sample data\n",
    "tasks = [\n",
    "    dict(Task=\"Research\", Start='2023-01-01', Finish='2023-01-10', Resource=\"Planning\"),\n",
    "    dict(Task=\"Design\", Start='2023-01-11', Finish='2023-01-20', Resource=\"Planning\"),\n",
    "    dict(Task=\"Development\", Start='2023-01-21', Finish='2023-02-10', Resource=\"Implementation\"),\n",
    "    dict(Task=\"Testing\", Start='2023-02-11', Finish='2023-02-20', Resource=\"Validation\"),\n",
    "    dict(Task=\"Deployment\", Start='2023-02-21', Finish='2023-02-28', Resource=\"Implementation\")\n",
    "]\n",
    "\n",
    "df = pd.DataFrame(tasks)\n",
    "\n",
    "# Create Gantt Chart\n",
    "fig = px.timeline(\n",
    "    df,\n",
    "    x_start=\"Start\",\n",
    "    x_end=\"Finish\",\n",
    "    y=\"Task\",\n",
    "    color=\"Resource\",\n",
    "    title=\"Project Timeline - Basic Gantt Chart\"\n",
    ")\n",
    "\n",
    "# Customize layout\n",
    "fig.update_layout(\n",
    "    xaxis_title=\"Timeline\",\n",
    "    yaxis_title=\"Project Tasks\"\n",
    "    ,height=800\n",
    ")\n",
    "\n",
    "fig.show()"
   ]
  },
  {
   "cell_type": "markdown",
   "metadata": {},
   "source": [
    "## Example 3: Gantt Chart with Task Categories"
   ]
  },
  {
   "cell_type": "code",
   "execution_count": null,
   "metadata": {},
   "outputs": [],
   "source": [
    "import plotly.express as px\n",
    "import pandas as pd\n",
    "\n",
    "# Create sample data\n",
    "tasks = [\n",
    "    dict(Task=\"Research\", Start='2023-05-01', Finish='2023-07-10', Resource=\"Planning\"),\n",
    "    dict(Task=\"Design\", Start='2023-07-11', Finish='2023-09-20', Resource=\"Planning\"),\n",
    "    dict(Task=\"Development\", Start='2023-09-21', Finish='2023-12-10', Resource=\"Implementation\"),\n",
    "    dict(Task=\"Testing\", Start='2024-01-11', Finish='2024-03-20', Resource=\"Validation\"),\n",
    "    dict(Task=\"Deployment\", Start='2024-03-21', Finish='2024-04-28', Resource=\"Implementation\")\n",
    "]\n",
    "\n",
    "df = pd.DataFrame(tasks)\n",
    "\n",
    "# Create Gantt Chart\n",
    "fig = px.timeline(\n",
    "    df,\n",
    "    x_start=\"Start\",\n",
    "    x_end=\"Finish\",\n",
    "    y=\"Task\",\n",
    "    color=\"Resource\",\n",
    "    title=\"Project Timeline - Basic Gantt Chart\"\n",
    ")\n",
    "\n",
    "# Customize layout\n",
    "fig.update_layout(\n",
    "    xaxis_title=\"Timeline\",\n",
    "    yaxis_title=\"Project Tasks\",\n",
    "    xaxis=dict(\n",
    "        rangeselector=dict(\n",
    "            buttons=list([\n",
    "                dict(count=1, label=\"1M\", step=\"month\", stepmode=\"backward\"),\n",
    "                dict(count=3, label=\"3M\", step=\"month\", stepmode=\"backward\"),\n",
    "                dict(count=6, label=\"6M\", step=\"month\", stepmode=\"backward\"),\n",
    "                dict(count=1, label=\"1Y\", step=\"year\", stepmode=\"backward\"),\n",
    "                dict(step=\"all\", label=\"All\")\n",
    "            ])\n",
    "        )\n",
    "    )\n",
    "    ,\n",
    "    height=800\n",
    ")\n",
    "\n",
    "fig.show()"
   ]
  },
  {
   "cell_type": "code",
   "execution_count": null,
   "metadata": {},
   "outputs": [],
   "source": []
  }
 ],
 "metadata": {
  "kernelspec": {
   "display_name": "py312",
   "language": "python",
   "name": "python3"
  },
  "language_info": {
   "codemirror_mode": {
    "name": "ipython",
    "version": 3
   },
   "file_extension": ".py",
   "mimetype": "text/x-python",
   "name": "python",
   "nbconvert_exporter": "python",
   "pygments_lexer": "ipython3",
   "version": "3.12.9"
  }
 },
 "nbformat": 4,
 "nbformat_minor": 2
}
