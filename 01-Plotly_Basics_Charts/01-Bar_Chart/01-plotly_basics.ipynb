{
 "cells": [
  {
   "cell_type": "markdown",
   "metadata": {},
   "source": [
    "# Plotly Bar Chart"
   ]
  },
  {
   "cell_type": "code",
   "execution_count": null,
   "metadata": {},
   "outputs": [],
   "source": [
    "%pip install plotly"
   ]
  },
  {
   "cell_type": "code",
   "execution_count": 15,
   "id": "870a76bb-46c7-4a0e-aa09-cdbb9554807c",
   "metadata": {},
   "outputs": [],
   "source": [
    "import plotly.express as px\n",
    "import pandas as pd"
   ]
  },
  {
   "cell_type": "markdown",
   "metadata": {},
   "source": [
    "#  Create sample dataset"
   ]
  },
  {
   "cell_type": "code",
   "execution_count": null,
   "id": "05bfa50e-4b85-4fa3-88ff-f4be92593d9b",
   "metadata": {},
   "outputs": [],
   "source": [
    "data = {\n",
    "    'Category': ['Electronics', 'Electronics', 'Electronics', 'Electronics',\n",
    "                 'Furniture', 'Furniture', 'Furniture', 'Furniture',\n",
    "                 'Clothing', 'Clothing', 'Clothing', 'Clothing'],\n",
    "    'Quarter': ['Q1', 'Q2', 'Q3', 'Q4'] * 3,\n",
    "    'Sales': [500, 700, 600, 800,\n",
    "              300, 400, 350, 500,\n",
    "              250, 300, 400, 450]\n",
    "}\n",
    "df = pd.DataFrame(data)\n",
    "print(df)"
   ]
  },
  {
   "cell_type": "markdown",
   "metadata": {},
   "source": [
    "# Basic Bar Chart"
   ]
  },
  {
   "cell_type": "code",
   "execution_count": null,
   "id": "14d38c5d-cad5-41eb-ab2a-a87861ab1ffe",
   "metadata": {},
   "outputs": [],
   "source": []
  },
  {
   "cell_type": "markdown",
   "metadata": {},
   "source": [
    "# Stacked Bar Chart\n"
   ]
  },
  {
   "cell_type": "code",
   "execution_count": null,
   "id": "8395d8ec-99dc-4051-a326-e445d2ae70c0",
   "metadata": {},
   "outputs": [],
   "source": []
  },
  {
   "cell_type": "markdown",
   "metadata": {},
   "source": [
    "# Grouped Bar Chart"
   ]
  },
  {
   "cell_type": "code",
   "execution_count": null,
   "id": "1f6046af-7fb2-4431-b300-40cc35b964b2",
   "metadata": {},
   "outputs": [],
   "source": []
  },
  {
   "cell_type": "markdown",
   "metadata": {},
   "source": [
    "# Horizontal Bar Chart"
   ]
  },
  {
   "cell_type": "code",
   "execution_count": null,
   "id": "7997dd44-2727-495b-b248-ea824bee1fed",
   "metadata": {},
   "outputs": [],
   "source": []
  },
  {
   "cell_type": "markdown",
   "metadata": {},
   "source": [
    "# Advanced Layout Customization"
   ]
  },
  {
   "cell_type": "code",
   "execution_count": null,
   "id": "3a121808-73a8-4a1b-9180-a9163b6e52ae",
   "metadata": {},
   "outputs": [],
   "source": []
  },
  {
   "cell_type": "code",
   "execution_count": null,
   "metadata": {},
   "outputs": [],
   "source": []
  }
 ],
 "metadata": {
  "kernelspec": {
   "display_name": "yt312",
   "language": "python",
   "name": "python3"
  },
  "language_info": {
   "codemirror_mode": {
    "name": "ipython",
    "version": 3
   },
   "file_extension": ".py",
   "mimetype": "text/x-python",
   "name": "python",
   "nbconvert_exporter": "python",
   "pygments_lexer": "ipython3",
   "version": "3.12.7"
  }
 },
 "nbformat": 4,
 "nbformat_minor": 2
}
