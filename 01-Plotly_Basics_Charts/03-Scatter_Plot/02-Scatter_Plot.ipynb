{
 "cells": [
  {
   "cell_type": "markdown",
   "metadata": {},
   "source": [
    "# 1. Plotly Scatterplots "
   ]
  },
  {
   "cell_type": "code",
   "execution_count": 1,
   "id": "fc95a55f-064d-435e-977b-60db38ffb02c",
   "metadata": {},
   "outputs": [],
   "source": [
    "import plotly.express as px\n",
    "import plotly.graph_objects as go\n",
    "import pandas as pd\n",
    "import numpy as np"
   ]
  },
  {
   "cell_type": "markdown",
   "id": "3a06222b-0134-4ede-9668-2add4e6c7958",
   "metadata": {},
   "source": [
    "# 2. CREATE A SAMPLE DATASET\n",
    "In this example, we'll simulate data representing employee\n",
    "demographics and salaries within a company.\n",
    "- 'Age': random ages between 20 and 60\n",
    "- 'Salary': random salaries between 30d 150k\n",
    "- 'Department': categorical feature with 3 departments\n",
    "- 'PerformanceScore': numeric score between 1 and 10"
   ]
  },
  {
   "cell_type": "code",
   "execution_count": 2,
   "id": "2c05625c-38be-406f-ada1-936f3bf24633",
   "metadata": {},
   "outputs": [
    {
     "name": "stdout",
     "output_type": "stream",
     "text": [
      "   Age  Salary Department  PerformanceScore\n",
      "0   58   53776         HR              4.59\n",
      "1   48   60080      Sales              4.90\n",
      "2   34   96842         HR              7.70\n",
      "3   27   91373         IT              3.26\n",
      "4   40   36776      Sales              2.66\n"
     ]
    }
   ],
   "source": [
    "np.random.seed(42)  # For reproducible random numbers\n",
    "\n",
    "num_records = 150\n",
    "ages = np.random.randint(20, 60, size=num_records)\n",
    "salaries = np.random.randint(30000, 150000, size=num_records)\n",
    "departments = np.random.choice([\"IT\", \"HR\", \"Sales\"], size=num_records)\n",
    "performance = np.random.uniform(1, 10, size=num_records).round(2)\n",
    "\n",
    "df = pd.DataFrame(\n",
    "    {\"Age\": ages, \"Salary\": salaries, \"Department\": departments, \"PerformanceScore\": performance}\n",
    ")\n",
    "\n",
    "print(df.head())"
   ]
  },
  {
   "cell_type": "markdown",
   "id": "cefd57f0-0fe4-42cf-8347-2c9b2fac3c3d",
   "metadata": {},
   "source": [
    "\n",
    "\n",
    "# 3. BASIC SCATTER PLOT"
   ]
  },
  {
   "cell_type": "code",
   "execution_count": 3,
   "id": "a87d12df-16b8-488d-9842-72cd142fa1ed",
   "metadata": {},
   "outputs": [
    {
     "data": {
      "application/vnd.plotly.v1+json": {
       "config": {
        "plotlyServerURL": "https://plot.ly"
       },
       "data": [
        {
         "hovertemplate": "Age=%{x}<br>Salary=%{y}<extra></extra>",
         "legendgroup": "",
         "marker": {
          "color": "#636efa",
          "symbol": "circle"
         },
         "mode": "markers",
         "name": "",
         "orientation": "v",
         "showlegend": false,
         "type": "scatter",
         "x": [
          58,
          48,
          34,
          27,
          40,
          58,
          38,
          42,
          30,
          30,
          43,
          55,
          59,
          43,
          22,
          41,
          21,
          43,
          49,
          57,
          21,
          40,
          52,
          31,
          41,
          44,
          46,
          47,
          35,
          34,
          22,
          56,
          26,
          40,
          28,
          58,
          37,
          23,
          44,
          33,
          28,
          45,
          21,
          39,
          47,
          26,
          27,
          54,
          33,
          36,
          55,
          59,
          23,
          21,
          25,
          23,
          48,
          37,
          45,
          53,
          29,
          55,
          33,
          50,
          34,
          27,
          33,
          42,
          59,
          40,
          35,
          37,
          43,
          45,
          44,
          48,
          34,
          20,
          44,
          26,
          28,
          43,
          20,
          27,
          43,
          30,
          36,
          27,
          54,
          54,
          52,
          24,
          58,
          47,
          26,
          28,
          27,
          31,
          53,
          52,
          42,
          43,
          56,
          54,
          59,
          41,
          46,
          54,
          20,
          54,
          56,
          33,
          22,
          20,
          24,
          45,
          33,
          58,
          46,
          28,
          34,
          34,
          45,
          32,
          51,
          58,
          51,
          23,
          49,
          56,
          42,
          58,
          34,
          48,
          55,
          32,
          51,
          26,
          41,
          47,
          21,
          25,
          47,
          47,
          39,
          49,
          30,
          47,
          44,
          58
         ],
         "xaxis": "x",
         "y": [
          53776,
          60080,
          96842,
          91373,
          36776,
          122787,
          85016,
          39474,
          135830,
          88053,
          51959,
          35530,
          124856,
          149101,
          33748,
          127504,
          128098,
          43545,
          96199,
          64766,
          103530,
          123557,
          91087,
          125839,
          146183,
          98840,
          148451,
          84384,
          81005,
          76576,
          69353,
          92003,
          113211,
          82733,
          95318,
          139953,
          119474,
          53664,
          97172,
          115616,
          123264,
          145386,
          56736,
          124209,
          133041,
          142859,
          142181,
          30854,
          120084,
          68623,
          37392,
          85680,
          76717,
          149937,
          117092,
          80859,
          134095,
          56309,
          117455,
          93734,
          100467,
          82662,
          128506,
          139751,
          148906,
          42688,
          55342,
          67157,
          97863,
          136308,
          82083,
          136081,
          95733,
          119045,
          64698,
          140078,
          110623,
          52671,
          55184,
          123384,
          72107,
          116202,
          139893,
          81663,
          45708,
          121906,
          79811,
          32811,
          86250,
          142547,
          102082,
          64754,
          125742,
          136642,
          41411,
          32911,
          97270,
          113763,
          38680,
          114896,
          113879,
          101295,
          118614,
          130689,
          41111,
          67504,
          31802,
          38155,
          103656,
          69384,
          142561,
          77254,
          51918,
          115981,
          90713,
          60306,
          46646,
          76843,
          126601,
          120735,
          137512,
          46371,
          107371,
          141472,
          32049,
          61616,
          133727,
          142893,
          50932,
          147796,
          59855,
          91434,
          102694,
          73016,
          37400,
          147858,
          72642,
          45151,
          81407,
          96690,
          34499,
          36295,
          89040,
          42183,
          59299,
          42874,
          146336,
          62711,
          35539,
          137941
         ],
         "yaxis": "y"
        }
       ],
       "layout": {
        "legend": {
         "tracegroupgap": 0
        },
        "template": {
         "data": {
          "bar": [
           {
            "error_x": {
             "color": "#2a3f5f"
            },
            "error_y": {
             "color": "#2a3f5f"
            },
            "marker": {
             "line": {
              "color": "#E5ECF6",
              "width": 0.5
             },
             "pattern": {
              "fillmode": "overlay",
              "size": 10,
              "solidity": 0.2
             }
            },
            "type": "bar"
           }
          ],
          "barpolar": [
           {
            "marker": {
             "line": {
              "color": "#E5ECF6",
              "width": 0.5
             },
             "pattern": {
              "fillmode": "overlay",
              "size": 10,
              "solidity": 0.2
             }
            },
            "type": "barpolar"
           }
          ],
          "carpet": [
           {
            "aaxis": {
             "endlinecolor": "#2a3f5f",
             "gridcolor": "white",
             "linecolor": "white",
             "minorgridcolor": "white",
             "startlinecolor": "#2a3f5f"
            },
            "baxis": {
             "endlinecolor": "#2a3f5f",
             "gridcolor": "white",
             "linecolor": "white",
             "minorgridcolor": "white",
             "startlinecolor": "#2a3f5f"
            },
            "type": "carpet"
           }
          ],
          "choropleth": [
           {
            "colorbar": {
             "outlinewidth": 0,
             "ticks": ""
            },
            "type": "choropleth"
           }
          ],
          "contour": [
           {
            "colorbar": {
             "outlinewidth": 0,
             "ticks": ""
            },
            "colorscale": [
             [
              0,
              "#0d0887"
             ],
             [
              0.1111111111111111,
              "#46039f"
             ],
             [
              0.2222222222222222,
              "#7201a8"
             ],
             [
              0.3333333333333333,
              "#9c179e"
             ],
             [
              0.4444444444444444,
              "#bd3786"
             ],
             [
              0.5555555555555556,
              "#d8576b"
             ],
             [
              0.6666666666666666,
              "#ed7953"
             ],
             [
              0.7777777777777778,
              "#fb9f3a"
             ],
             [
              0.8888888888888888,
              "#fdca26"
             ],
             [
              1,
              "#f0f921"
             ]
            ],
            "type": "contour"
           }
          ],
          "contourcarpet": [
           {
            "colorbar": {
             "outlinewidth": 0,
             "ticks": ""
            },
            "type": "contourcarpet"
           }
          ],
          "heatmap": [
           {
            "colorbar": {
             "outlinewidth": 0,
             "ticks": ""
            },
            "colorscale": [
             [
              0,
              "#0d0887"
             ],
             [
              0.1111111111111111,
              "#46039f"
             ],
             [
              0.2222222222222222,
              "#7201a8"
             ],
             [
              0.3333333333333333,
              "#9c179e"
             ],
             [
              0.4444444444444444,
              "#bd3786"
             ],
             [
              0.5555555555555556,
              "#d8576b"
             ],
             [
              0.6666666666666666,
              "#ed7953"
             ],
             [
              0.7777777777777778,
              "#fb9f3a"
             ],
             [
              0.8888888888888888,
              "#fdca26"
             ],
             [
              1,
              "#f0f921"
             ]
            ],
            "type": "heatmap"
           }
          ],
          "heatmapgl": [
           {
            "colorbar": {
             "outlinewidth": 0,
             "ticks": ""
            },
            "colorscale": [
             [
              0,
              "#0d0887"
             ],
             [
              0.1111111111111111,
              "#46039f"
             ],
             [
              0.2222222222222222,
              "#7201a8"
             ],
             [
              0.3333333333333333,
              "#9c179e"
             ],
             [
              0.4444444444444444,
              "#bd3786"
             ],
             [
              0.5555555555555556,
              "#d8576b"
             ],
             [
              0.6666666666666666,
              "#ed7953"
             ],
             [
              0.7777777777777778,
              "#fb9f3a"
             ],
             [
              0.8888888888888888,
              "#fdca26"
             ],
             [
              1,
              "#f0f921"
             ]
            ],
            "type": "heatmapgl"
           }
          ],
          "histogram": [
           {
            "marker": {
             "pattern": {
              "fillmode": "overlay",
              "size": 10,
              "solidity": 0.2
             }
            },
            "type": "histogram"
           }
          ],
          "histogram2d": [
           {
            "colorbar": {
             "outlinewidth": 0,
             "ticks": ""
            },
            "colorscale": [
             [
              0,
              "#0d0887"
             ],
             [
              0.1111111111111111,
              "#46039f"
             ],
             [
              0.2222222222222222,
              "#7201a8"
             ],
             [
              0.3333333333333333,
              "#9c179e"
             ],
             [
              0.4444444444444444,
              "#bd3786"
             ],
             [
              0.5555555555555556,
              "#d8576b"
             ],
             [
              0.6666666666666666,
              "#ed7953"
             ],
             [
              0.7777777777777778,
              "#fb9f3a"
             ],
             [
              0.8888888888888888,
              "#fdca26"
             ],
             [
              1,
              "#f0f921"
             ]
            ],
            "type": "histogram2d"
           }
          ],
          "histogram2dcontour": [
           {
            "colorbar": {
             "outlinewidth": 0,
             "ticks": ""
            },
            "colorscale": [
             [
              0,
              "#0d0887"
             ],
             [
              0.1111111111111111,
              "#46039f"
             ],
             [
              0.2222222222222222,
              "#7201a8"
             ],
             [
              0.3333333333333333,
              "#9c179e"
             ],
             [
              0.4444444444444444,
              "#bd3786"
             ],
             [
              0.5555555555555556,
              "#d8576b"
             ],
             [
              0.6666666666666666,
              "#ed7953"
             ],
             [
              0.7777777777777778,
              "#fb9f3a"
             ],
             [
              0.8888888888888888,
              "#fdca26"
             ],
             [
              1,
              "#f0f921"
             ]
            ],
            "type": "histogram2dcontour"
           }
          ],
          "mesh3d": [
           {
            "colorbar": {
             "outlinewidth": 0,
             "ticks": ""
            },
            "type": "mesh3d"
           }
          ],
          "parcoords": [
           {
            "line": {
             "colorbar": {
              "outlinewidth": 0,
              "ticks": ""
             }
            },
            "type": "parcoords"
           }
          ],
          "pie": [
           {
            "automargin": true,
            "type": "pie"
           }
          ],
          "scatter": [
           {
            "fillpattern": {
             "fillmode": "overlay",
             "size": 10,
             "solidity": 0.2
            },
            "type": "scatter"
           }
          ],
          "scatter3d": [
           {
            "line": {
             "colorbar": {
              "outlinewidth": 0,
              "ticks": ""
             }
            },
            "marker": {
             "colorbar": {
              "outlinewidth": 0,
              "ticks": ""
             }
            },
            "type": "scatter3d"
           }
          ],
          "scattercarpet": [
           {
            "marker": {
             "colorbar": {
              "outlinewidth": 0,
              "ticks": ""
             }
            },
            "type": "scattercarpet"
           }
          ],
          "scattergeo": [
           {
            "marker": {
             "colorbar": {
              "outlinewidth": 0,
              "ticks": ""
             }
            },
            "type": "scattergeo"
           }
          ],
          "scattergl": [
           {
            "marker": {
             "colorbar": {
              "outlinewidth": 0,
              "ticks": ""
             }
            },
            "type": "scattergl"
           }
          ],
          "scattermapbox": [
           {
            "marker": {
             "colorbar": {
              "outlinewidth": 0,
              "ticks": ""
             }
            },
            "type": "scattermapbox"
           }
          ],
          "scatterpolar": [
           {
            "marker": {
             "colorbar": {
              "outlinewidth": 0,
              "ticks": ""
             }
            },
            "type": "scatterpolar"
           }
          ],
          "scatterpolargl": [
           {
            "marker": {
             "colorbar": {
              "outlinewidth": 0,
              "ticks": ""
             }
            },
            "type": "scatterpolargl"
           }
          ],
          "scatterternary": [
           {
            "marker": {
             "colorbar": {
              "outlinewidth": 0,
              "ticks": ""
             }
            },
            "type": "scatterternary"
           }
          ],
          "surface": [
           {
            "colorbar": {
             "outlinewidth": 0,
             "ticks": ""
            },
            "colorscale": [
             [
              0,
              "#0d0887"
             ],
             [
              0.1111111111111111,
              "#46039f"
             ],
             [
              0.2222222222222222,
              "#7201a8"
             ],
             [
              0.3333333333333333,
              "#9c179e"
             ],
             [
              0.4444444444444444,
              "#bd3786"
             ],
             [
              0.5555555555555556,
              "#d8576b"
             ],
             [
              0.6666666666666666,
              "#ed7953"
             ],
             [
              0.7777777777777778,
              "#fb9f3a"
             ],
             [
              0.8888888888888888,
              "#fdca26"
             ],
             [
              1,
              "#f0f921"
             ]
            ],
            "type": "surface"
           }
          ],
          "table": [
           {
            "cells": {
             "fill": {
              "color": "#EBF0F8"
             },
             "line": {
              "color": "white"
             }
            },
            "header": {
             "fill": {
              "color": "#C8D4E3"
             },
             "line": {
              "color": "white"
             }
            },
            "type": "table"
           }
          ]
         },
         "layout": {
          "annotationdefaults": {
           "arrowcolor": "#2a3f5f",
           "arrowhead": 0,
           "arrowwidth": 1
          },
          "autotypenumbers": "strict",
          "coloraxis": {
           "colorbar": {
            "outlinewidth": 0,
            "ticks": ""
           }
          },
          "colorscale": {
           "diverging": [
            [
             0,
             "#8e0152"
            ],
            [
             0.1,
             "#c51b7d"
            ],
            [
             0.2,
             "#de77ae"
            ],
            [
             0.3,
             "#f1b6da"
            ],
            [
             0.4,
             "#fde0ef"
            ],
            [
             0.5,
             "#f7f7f7"
            ],
            [
             0.6,
             "#e6f5d0"
            ],
            [
             0.7,
             "#b8e186"
            ],
            [
             0.8,
             "#7fbc41"
            ],
            [
             0.9,
             "#4d9221"
            ],
            [
             1,
             "#276419"
            ]
           ],
           "sequential": [
            [
             0,
             "#0d0887"
            ],
            [
             0.1111111111111111,
             "#46039f"
            ],
            [
             0.2222222222222222,
             "#7201a8"
            ],
            [
             0.3333333333333333,
             "#9c179e"
            ],
            [
             0.4444444444444444,
             "#bd3786"
            ],
            [
             0.5555555555555556,
             "#d8576b"
            ],
            [
             0.6666666666666666,
             "#ed7953"
            ],
            [
             0.7777777777777778,
             "#fb9f3a"
            ],
            [
             0.8888888888888888,
             "#fdca26"
            ],
            [
             1,
             "#f0f921"
            ]
           ],
           "sequentialminus": [
            [
             0,
             "#0d0887"
            ],
            [
             0.1111111111111111,
             "#46039f"
            ],
            [
             0.2222222222222222,
             "#7201a8"
            ],
            [
             0.3333333333333333,
             "#9c179e"
            ],
            [
             0.4444444444444444,
             "#bd3786"
            ],
            [
             0.5555555555555556,
             "#d8576b"
            ],
            [
             0.6666666666666666,
             "#ed7953"
            ],
            [
             0.7777777777777778,
             "#fb9f3a"
            ],
            [
             0.8888888888888888,
             "#fdca26"
            ],
            [
             1,
             "#f0f921"
            ]
           ]
          },
          "colorway": [
           "#636efa",
           "#EF553B",
           "#00cc96",
           "#ab63fa",
           "#FFA15A",
           "#19d3f3",
           "#FF6692",
           "#B6E880",
           "#FF97FF",
           "#FECB52"
          ],
          "font": {
           "color": "#2a3f5f"
          },
          "geo": {
           "bgcolor": "white",
           "lakecolor": "white",
           "landcolor": "#E5ECF6",
           "showlakes": true,
           "showland": true,
           "subunitcolor": "white"
          },
          "hoverlabel": {
           "align": "left"
          },
          "hovermode": "closest",
          "mapbox": {
           "style": "light"
          },
          "paper_bgcolor": "white",
          "plot_bgcolor": "#E5ECF6",
          "polar": {
           "angularaxis": {
            "gridcolor": "white",
            "linecolor": "white",
            "ticks": ""
           },
           "bgcolor": "#E5ECF6",
           "radialaxis": {
            "gridcolor": "white",
            "linecolor": "white",
            "ticks": ""
           }
          },
          "scene": {
           "xaxis": {
            "backgroundcolor": "#E5ECF6",
            "gridcolor": "white",
            "gridwidth": 2,
            "linecolor": "white",
            "showbackground": true,
            "ticks": "",
            "zerolinecolor": "white"
           },
           "yaxis": {
            "backgroundcolor": "#E5ECF6",
            "gridcolor": "white",
            "gridwidth": 2,
            "linecolor": "white",
            "showbackground": true,
            "ticks": "",
            "zerolinecolor": "white"
           },
           "zaxis": {
            "backgroundcolor": "#E5ECF6",
            "gridcolor": "white",
            "gridwidth": 2,
            "linecolor": "white",
            "showbackground": true,
            "ticks": "",
            "zerolinecolor": "white"
           }
          },
          "shapedefaults": {
           "line": {
            "color": "#2a3f5f"
           }
          },
          "ternary": {
           "aaxis": {
            "gridcolor": "white",
            "linecolor": "white",
            "ticks": ""
           },
           "baxis": {
            "gridcolor": "white",
            "linecolor": "white",
            "ticks": ""
           },
           "bgcolor": "#E5ECF6",
           "caxis": {
            "gridcolor": "white",
            "linecolor": "white",
            "ticks": ""
           }
          },
          "title": {
           "x": 0.05
          },
          "xaxis": {
           "automargin": true,
           "gridcolor": "white",
           "linecolor": "white",
           "ticks": "",
           "title": {
            "standoff": 15
           },
           "zerolinecolor": "white",
           "zerolinewidth": 2
          },
          "yaxis": {
           "automargin": true,
           "gridcolor": "white",
           "linecolor": "white",
           "ticks": "",
           "title": {
            "standoff": 15
           },
           "zerolinecolor": "white",
           "zerolinewidth": 2
          }
         }
        },
        "title": {
         "text": "Basic Scatter Plot: Age vs. Salary"
        },
        "xaxis": {
         "anchor": "y",
         "domain": [
          0,
          1
         ],
         "title": {
          "text": "Age"
         }
        },
        "yaxis": {
         "anchor": "x",
         "domain": [
          0,
          1
         ],
         "title": {
          "text": "Salary"
         }
        }
       }
      }
     },
     "metadata": {},
     "output_type": "display_data"
    }
   ],
   "source": [
    "fig_basic = px.scatter(df, x=\"Age\", y=\"Salary\", title=\"Basic Scatter Plot: Age vs. Salary\")\n",
    "fig_basic.show()"
   ]
  },
  {
   "cell_type": "markdown",
   "id": "2bafcfee-2e9d-4d30-a426-d9e3ac323c18",
   "metadata": {},
   "source": [
    "\n",
    "\n",
    "# 4. SCATTER PLOT WITH COLOR AND SIZE\n",
    "We can enhance our scatter plot by coloring points by Department\n",
    "and scaling the marker size by PerformanceScore.\n",
    "This allows us to visualize three variables in a 2D plot."
   ]
  },
  {
   "cell_type": "code",
   "execution_count": 4,
   "id": "e609a156-71cf-4512-8bb6-b7637c07124c",
   "metadata": {},
   "outputs": [
    {
     "data": {
      "application/vnd.plotly.v1+json": {
       "config": {
        "plotlyServerURL": "https://plot.ly"
       },
       "data": [
        {
         "customdata": [
          [
           "HR",
           4.59
          ],
          [
           "HR",
           7.7
          ],
          [
           "HR",
           7.2
          ],
          [
           "HR",
           1.52
          ],
          [
           "HR",
           9.24
          ],
          [
           "HR",
           4.98
          ],
          [
           "HR",
           3.16
          ],
          [
           "HR",
           6.91
          ],
          [
           "HR",
           1.83
          ],
          [
           "HR",
           3.8
          ],
          [
           "HR",
           9.82
          ],
          [
           "HR",
           2.58
          ],
          [
           "HR",
           1.15
          ],
          [
           "HR",
           7.87
          ],
          [
           "HR",
           5.18
          ],
          [
           "HR",
           9.54
          ],
          [
           "HR",
           3.35
          ],
          [
           "HR",
           6.73
          ],
          [
           "HR",
           7.09
          ],
          [
           "HR",
           2.16
          ],
          [
           "HR",
           2.86
          ],
          [
           "HR",
           3.35
          ],
          [
           "HR",
           7.24
          ],
          [
           "HR",
           9.43
          ],
          [
           "HR",
           1.35
          ],
          [
           "HR",
           9.71
          ],
          [
           "HR",
           5.93
          ],
          [
           "HR",
           6.12
          ],
          [
           "HR",
           7.58
          ],
          [
           "HR",
           6.22
          ],
          [
           "HR",
           8.8
          ],
          [
           "HR",
           6.06
          ],
          [
           "HR",
           4.4
          ],
          [
           "HR",
           4.51
          ],
          [
           "HR",
           1.9
          ],
          [
           "HR",
           9.63
          ],
          [
           "HR",
           9.61
          ],
          [
           "HR",
           1.83
          ],
          [
           "HR",
           6.42
          ],
          [
           "HR",
           8.03
          ],
          [
           "HR",
           2.02
          ],
          [
           "HR",
           9.96
          ],
          [
           "HR",
           5.91
          ],
          [
           "HR",
           9.72
          ],
          [
           "HR",
           8.53
          ],
          [
           "HR",
           8.8
          ],
          [
           "HR",
           8.55
          ],
          [
           "HR",
           4.83
          ],
          [
           "HR",
           4.57
          ],
          [
           "HR",
           9.03
          ],
          [
           "HR",
           5.62
          ],
          [
           "HR",
           6.33
          ],
          [
           "HR",
           7.37
          ],
          [
           "HR",
           3.97
          ],
          [
           "HR",
           4.91
          ],
          [
           "HR",
           3.28
          ]
         ],
         "hovertemplate": "Department=%{customdata[0]}<br>Employee Age=%{x}<br>Salary (USD)=%{y}<br>Performance Score=%{customdata[1]}<extra></extra>",
         "legendgroup": "HR",
         "marker": {
          "color": "#636efa",
          "size": [
           4.59,
           7.7,
           7.2,
           1.52,
           9.24,
           4.98,
           3.16,
           6.91,
           1.83,
           3.8,
           9.82,
           2.58,
           1.15,
           7.87,
           5.18,
           9.54,
           3.35,
           6.73,
           7.09,
           2.16,
           2.86,
           3.35,
           7.24,
           9.43,
           1.35,
           9.71,
           5.93,
           6.12,
           7.58,
           6.22,
           8.8,
           6.06,
           4.4,
           4.51,
           1.9,
           9.63,
           9.61,
           1.83,
           6.42,
           8.03,
           2.02,
           9.96,
           5.91,
           9.72,
           8.53,
           8.8,
           8.55,
           4.83,
           4.57,
           9.03,
           5.62,
           6.33,
           7.37,
           3.97,
           4.91,
           3.28
          ],
          "sizemode": "area",
          "sizeref": 0.024900000000000002,
          "symbol": "circle"
         },
         "mode": "markers",
         "name": "HR",
         "orientation": "v",
         "showlegend": true,
         "type": "scatter",
         "x": [
          58,
          34,
          42,
          30,
          30,
          43,
          55,
          43,
          44,
          47,
          35,
          34,
          22,
          56,
          28,
          23,
          33,
          36,
          59,
          21,
          53,
          35,
          43,
          44,
          48,
          20,
          44,
          28,
          20,
          30,
          36,
          27,
          58,
          28,
          31,
          52,
          56,
          54,
          20,
          22,
          20,
          33,
          28,
          34,
          32,
          51,
          58,
          51,
          49,
          56,
          58,
          41,
          21,
          49,
          30,
          47
         ],
         "xaxis": "x",
         "y": [
          53776,
          96842,
          39474,
          135830,
          88053,
          51959,
          35530,
          43545,
          98840,
          84384,
          81005,
          76576,
          69353,
          92003,
          95318,
          53664,
          115616,
          68623,
          85680,
          149937,
          93734,
          82083,
          95733,
          64698,
          140078,
          52671,
          55184,
          72107,
          139893,
          121906,
          79811,
          32811,
          125742,
          32911,
          113763,
          114896,
          118614,
          38155,
          103656,
          51918,
          115981,
          46646,
          120735,
          46371,
          141472,
          32049,
          61616,
          133727,
          50932,
          147796,
          91434,
          81407,
          34499,
          42874,
          146336,
          62711
         ],
         "yaxis": "y"
        },
        {
         "customdata": [
          [
           "Sales",
           4.9
          ],
          [
           "Sales",
           2.66
          ],
          [
           "Sales",
           1.84
          ],
          [
           "Sales",
           7.57
          ],
          [
           "Sales",
           1.43
          ],
          [
           "Sales",
           2.08
          ],
          [
           "Sales",
           4.08
          ],
          [
           "Sales",
           1.85
          ],
          [
           "Sales",
           4.12
          ],
          [
           "Sales",
           6.85
          ],
          [
           "Sales",
           1.43
          ],
          [
           "Sales",
           9.4
          ],
          [
           "Sales",
           6.54
          ],
          [
           "Sales",
           9.5
          ],
          [
           "Sales",
           8.3
          ],
          [
           "Sales",
           2.93
          ],
          [
           "Sales",
           4.4
          ],
          [
           "Sales",
           6.56
          ],
          [
           "Sales",
           4.47
          ],
          [
           "Sales",
           4.07
          ],
          [
           "Sales",
           4.14
          ],
          [
           "Sales",
           4.76
          ],
          [
           "Sales",
           4.81
          ],
          [
           "Sales",
           6.18
          ],
          [
           "Sales",
           2.15
          ],
          [
           "Sales",
           3.25
          ],
          [
           "Sales",
           3.14
          ],
          [
           "Sales",
           5.81
          ],
          [
           "Sales",
           3.68
          ],
          [
           "Sales",
           1.48
          ],
          [
           "Sales",
           7.09
          ],
          [
           "Sales",
           5.98
          ],
          [
           "Sales",
           2.91
          ],
          [
           "Sales",
           9.52
          ],
          [
           "Sales",
           9.38
          ],
          [
           "Sales",
           9.77
          ],
          [
           "Sales",
           1.5
          ],
          [
           "Sales",
           7.35
          ],
          [
           "Sales",
           2.32
          ],
          [
           "Sales",
           3.1
          ],
          [
           "Sales",
           9.17
          ],
          [
           "Sales",
           5.34
          ],
          [
           "Sales",
           4.4
          ],
          [
           "Sales",
           7.35
          ],
          [
           "Sales",
           4.65
          ]
         ],
         "hovertemplate": "Department=%{customdata[0]}<br>Employee Age=%{x}<br>Salary (USD)=%{y}<br>Performance Score=%{customdata[1]}<extra></extra>",
         "legendgroup": "Sales",
         "marker": {
          "color": "#EF553B",
          "size": [
           4.9,
           2.66,
           1.84,
           7.57,
           1.43,
           2.08,
           4.08,
           1.85,
           4.12,
           6.85,
           1.43,
           9.4,
           6.54,
           9.5,
           8.3,
           2.93,
           4.4,
           6.56,
           4.47,
           4.07,
           4.14,
           4.76,
           4.81,
           6.18,
           2.15,
           3.25,
           3.14,
           5.81,
           3.68,
           1.48,
           7.09,
           5.98,
           2.91,
           9.52,
           9.38,
           9.77,
           1.5,
           7.35,
           2.32,
           3.1,
           9.17,
           5.34,
           4.4,
           7.35,
           4.65
          ],
          "sizemode": "area",
          "sizeref": 0.024900000000000002,
          "symbol": "circle"
         },
         "mode": "markers",
         "name": "Sales",
         "orientation": "v",
         "showlegend": true,
         "type": "scatter",
         "x": [
          48,
          40,
          59,
          57,
          21,
          31,
          41,
          46,
          40,
          58,
          37,
          45,
          26,
          27,
          25,
          55,
          33,
          34,
          42,
          40,
          45,
          34,
          26,
          43,
          27,
          43,
          24,
          47,
          27,
          53,
          54,
          54,
          56,
          33,
          24,
          45,
          58,
          34,
          42,
          34,
          26,
          25,
          47,
          47,
          44
         ],
         "xaxis": "x",
         "y": [
          60080,
          36776,
          124856,
          64766,
          103530,
          125839,
          146183,
          148451,
          82733,
          139953,
          119474,
          145386,
          142859,
          142181,
          117092,
          82662,
          128506,
          148906,
          67157,
          136308,
          119045,
          110623,
          123384,
          116202,
          81663,
          45708,
          64754,
          136642,
          97270,
          38680,
          130689,
          69384,
          142561,
          77254,
          90713,
          60306,
          76843,
          137512,
          59855,
          102694,
          45151,
          36295,
          89040,
          42183,
          35539
         ],
         "yaxis": "y"
        },
        {
         "customdata": [
          [
           "IT",
           3.26
          ],
          [
           "IT",
           1.73
          ],
          [
           "IT",
           4.85
          ],
          [
           "IT",
           2.65
          ],
          [
           "IT",
           9.41
          ],
          [
           "IT",
           6.74
          ],
          [
           "IT",
           5.65
          ],
          [
           "IT",
           4.92
          ],
          [
           "IT",
           6.09
          ],
          [
           "IT",
           2.43
          ],
          [
           "IT",
           8.26
          ],
          [
           "IT",
           8.98
          ],
          [
           "IT",
           1.14
          ],
          [
           "IT",
           5.51
          ],
          [
           "IT",
           5.85
          ],
          [
           "IT",
           7.16
          ],
          [
           "IT",
           9.5
          ],
          [
           "IT",
           8.8
          ],
          [
           "IT",
           8.21
          ],
          [
           "IT",
           6.16
          ],
          [
           "IT",
           8.39
          ],
          [
           "IT",
           6.63
          ],
          [
           "IT",
           8.38
          ],
          [
           "IT",
           6.86
          ],
          [
           "IT",
           3.47
          ],
          [
           "IT",
           1.35
          ],
          [
           "IT",
           4.03
          ],
          [
           "IT",
           6.9
          ],
          [
           "IT",
           7.13
          ],
          [
           "IT",
           5.46
          ],
          [
           "IT",
           3.15
          ],
          [
           "IT",
           7.12
          ],
          [
           "IT",
           7.66
          ],
          [
           "IT",
           5.47
          ],
          [
           "IT",
           8.62
          ],
          [
           "IT",
           4.19
          ],
          [
           "IT",
           5.34
          ],
          [
           "IT",
           5.44
          ],
          [
           "IT",
           1.75
          ],
          [
           "IT",
           7.63
          ],
          [
           "IT",
           7.19
          ],
          [
           "IT",
           3
          ],
          [
           "IT",
           6.23
          ],
          [
           "IT",
           8.77
          ],
          [
           "IT",
           8.92
          ],
          [
           "IT",
           3.13
          ],
          [
           "IT",
           4.15
          ],
          [
           "IT",
           3.24
          ],
          [
           "IT",
           6.14
          ]
         ],
         "hovertemplate": "Department=%{customdata[0]}<br>Employee Age=%{x}<br>Salary (USD)=%{y}<br>Performance Score=%{customdata[1]}<extra></extra>",
         "legendgroup": "IT",
         "marker": {
          "color": "#00cc96",
          "size": [
           3.26,
           1.73,
           4.85,
           2.65,
           9.41,
           6.74,
           5.65,
           4.92,
           6.09,
           2.43,
           8.26,
           8.98,
           1.14,
           5.51,
           5.85,
           7.16,
           9.5,
           8.8,
           8.21,
           6.16,
           8.39,
           6.63,
           8.38,
           6.86,
           3.47,
           1.35,
           4.03,
           6.9,
           7.13,
           5.46,
           3.15,
           7.12,
           7.66,
           5.47,
           8.62,
           4.19,
           5.34,
           5.44,
           1.75,
           7.63,
           7.19,
           3,
           6.23,
           8.77,
           8.92,
           3.13,
           4.15,
           3.24,
           6.14
          ],
          "sizemode": "area",
          "sizeref": 0.024900000000000002,
          "symbol": "circle"
         },
         "mode": "markers",
         "name": "IT",
         "orientation": "v",
         "showlegend": true,
         "type": "scatter",
         "x": [
          27,
          58,
          38,
          43,
          22,
          41,
          21,
          49,
          40,
          52,
          26,
          44,
          28,
          21,
          39,
          47,
          54,
          33,
          55,
          23,
          23,
          48,
          37,
          45,
          29,
          50,
          27,
          33,
          59,
          37,
          54,
          54,
          52,
          26,
          42,
          43,
          59,
          41,
          46,
          46,
          45,
          23,
          48,
          55,
          32,
          51,
          47,
          39,
          58
         ],
         "xaxis": "x",
         "y": [
          91373,
          122787,
          85016,
          149101,
          33748,
          127504,
          128098,
          96199,
          123557,
          91087,
          113211,
          97172,
          123264,
          56736,
          124209,
          133041,
          30854,
          120084,
          37392,
          76717,
          80859,
          134095,
          56309,
          117455,
          100467,
          139751,
          42688,
          55342,
          97863,
          136081,
          86250,
          142547,
          102082,
          41411,
          113879,
          101295,
          41111,
          67504,
          31802,
          126601,
          107371,
          142893,
          73016,
          37400,
          147858,
          72642,
          96690,
          59299,
          137941
         ],
         "yaxis": "y"
        }
       ],
       "layout": {
        "legend": {
         "itemsizing": "constant",
         "title": {
          "text": "Department"
         },
         "tracegroupgap": 0
        },
        "template": {
         "data": {
          "bar": [
           {
            "error_x": {
             "color": "#2a3f5f"
            },
            "error_y": {
             "color": "#2a3f5f"
            },
            "marker": {
             "line": {
              "color": "#E5ECF6",
              "width": 0.5
             },
             "pattern": {
              "fillmode": "overlay",
              "size": 10,
              "solidity": 0.2
             }
            },
            "type": "bar"
           }
          ],
          "barpolar": [
           {
            "marker": {
             "line": {
              "color": "#E5ECF6",
              "width": 0.5
             },
             "pattern": {
              "fillmode": "overlay",
              "size": 10,
              "solidity": 0.2
             }
            },
            "type": "barpolar"
           }
          ],
          "carpet": [
           {
            "aaxis": {
             "endlinecolor": "#2a3f5f",
             "gridcolor": "white",
             "linecolor": "white",
             "minorgridcolor": "white",
             "startlinecolor": "#2a3f5f"
            },
            "baxis": {
             "endlinecolor": "#2a3f5f",
             "gridcolor": "white",
             "linecolor": "white",
             "minorgridcolor": "white",
             "startlinecolor": "#2a3f5f"
            },
            "type": "carpet"
           }
          ],
          "choropleth": [
           {
            "colorbar": {
             "outlinewidth": 0,
             "ticks": ""
            },
            "type": "choropleth"
           }
          ],
          "contour": [
           {
            "colorbar": {
             "outlinewidth": 0,
             "ticks": ""
            },
            "colorscale": [
             [
              0,
              "#0d0887"
             ],
             [
              0.1111111111111111,
              "#46039f"
             ],
             [
              0.2222222222222222,
              "#7201a8"
             ],
             [
              0.3333333333333333,
              "#9c179e"
             ],
             [
              0.4444444444444444,
              "#bd3786"
             ],
             [
              0.5555555555555556,
              "#d8576b"
             ],
             [
              0.6666666666666666,
              "#ed7953"
             ],
             [
              0.7777777777777778,
              "#fb9f3a"
             ],
             [
              0.8888888888888888,
              "#fdca26"
             ],
             [
              1,
              "#f0f921"
             ]
            ],
            "type": "contour"
           }
          ],
          "contourcarpet": [
           {
            "colorbar": {
             "outlinewidth": 0,
             "ticks": ""
            },
            "type": "contourcarpet"
           }
          ],
          "heatmap": [
           {
            "colorbar": {
             "outlinewidth": 0,
             "ticks": ""
            },
            "colorscale": [
             [
              0,
              "#0d0887"
             ],
             [
              0.1111111111111111,
              "#46039f"
             ],
             [
              0.2222222222222222,
              "#7201a8"
             ],
             [
              0.3333333333333333,
              "#9c179e"
             ],
             [
              0.4444444444444444,
              "#bd3786"
             ],
             [
              0.5555555555555556,
              "#d8576b"
             ],
             [
              0.6666666666666666,
              "#ed7953"
             ],
             [
              0.7777777777777778,
              "#fb9f3a"
             ],
             [
              0.8888888888888888,
              "#fdca26"
             ],
             [
              1,
              "#f0f921"
             ]
            ],
            "type": "heatmap"
           }
          ],
          "heatmapgl": [
           {
            "colorbar": {
             "outlinewidth": 0,
             "ticks": ""
            },
            "colorscale": [
             [
              0,
              "#0d0887"
             ],
             [
              0.1111111111111111,
              "#46039f"
             ],
             [
              0.2222222222222222,
              "#7201a8"
             ],
             [
              0.3333333333333333,
              "#9c179e"
             ],
             [
              0.4444444444444444,
              "#bd3786"
             ],
             [
              0.5555555555555556,
              "#d8576b"
             ],
             [
              0.6666666666666666,
              "#ed7953"
             ],
             [
              0.7777777777777778,
              "#fb9f3a"
             ],
             [
              0.8888888888888888,
              "#fdca26"
             ],
             [
              1,
              "#f0f921"
             ]
            ],
            "type": "heatmapgl"
           }
          ],
          "histogram": [
           {
            "marker": {
             "pattern": {
              "fillmode": "overlay",
              "size": 10,
              "solidity": 0.2
             }
            },
            "type": "histogram"
           }
          ],
          "histogram2d": [
           {
            "colorbar": {
             "outlinewidth": 0,
             "ticks": ""
            },
            "colorscale": [
             [
              0,
              "#0d0887"
             ],
             [
              0.1111111111111111,
              "#46039f"
             ],
             [
              0.2222222222222222,
              "#7201a8"
             ],
             [
              0.3333333333333333,
              "#9c179e"
             ],
             [
              0.4444444444444444,
              "#bd3786"
             ],
             [
              0.5555555555555556,
              "#d8576b"
             ],
             [
              0.6666666666666666,
              "#ed7953"
             ],
             [
              0.7777777777777778,
              "#fb9f3a"
             ],
             [
              0.8888888888888888,
              "#fdca26"
             ],
             [
              1,
              "#f0f921"
             ]
            ],
            "type": "histogram2d"
           }
          ],
          "histogram2dcontour": [
           {
            "colorbar": {
             "outlinewidth": 0,
             "ticks": ""
            },
            "colorscale": [
             [
              0,
              "#0d0887"
             ],
             [
              0.1111111111111111,
              "#46039f"
             ],
             [
              0.2222222222222222,
              "#7201a8"
             ],
             [
              0.3333333333333333,
              "#9c179e"
             ],
             [
              0.4444444444444444,
              "#bd3786"
             ],
             [
              0.5555555555555556,
              "#d8576b"
             ],
             [
              0.6666666666666666,
              "#ed7953"
             ],
             [
              0.7777777777777778,
              "#fb9f3a"
             ],
             [
              0.8888888888888888,
              "#fdca26"
             ],
             [
              1,
              "#f0f921"
             ]
            ],
            "type": "histogram2dcontour"
           }
          ],
          "mesh3d": [
           {
            "colorbar": {
             "outlinewidth": 0,
             "ticks": ""
            },
            "type": "mesh3d"
           }
          ],
          "parcoords": [
           {
            "line": {
             "colorbar": {
              "outlinewidth": 0,
              "ticks": ""
             }
            },
            "type": "parcoords"
           }
          ],
          "pie": [
           {
            "automargin": true,
            "type": "pie"
           }
          ],
          "scatter": [
           {
            "fillpattern": {
             "fillmode": "overlay",
             "size": 10,
             "solidity": 0.2
            },
            "type": "scatter"
           }
          ],
          "scatter3d": [
           {
            "line": {
             "colorbar": {
              "outlinewidth": 0,
              "ticks": ""
             }
            },
            "marker": {
             "colorbar": {
              "outlinewidth": 0,
              "ticks": ""
             }
            },
            "type": "scatter3d"
           }
          ],
          "scattercarpet": [
           {
            "marker": {
             "colorbar": {
              "outlinewidth": 0,
              "ticks": ""
             }
            },
            "type": "scattercarpet"
           }
          ],
          "scattergeo": [
           {
            "marker": {
             "colorbar": {
              "outlinewidth": 0,
              "ticks": ""
             }
            },
            "type": "scattergeo"
           }
          ],
          "scattergl": [
           {
            "marker": {
             "colorbar": {
              "outlinewidth": 0,
              "ticks": ""
             }
            },
            "type": "scattergl"
           }
          ],
          "scattermapbox": [
           {
            "marker": {
             "colorbar": {
              "outlinewidth": 0,
              "ticks": ""
             }
            },
            "type": "scattermapbox"
           }
          ],
          "scatterpolar": [
           {
            "marker": {
             "colorbar": {
              "outlinewidth": 0,
              "ticks": ""
             }
            },
            "type": "scatterpolar"
           }
          ],
          "scatterpolargl": [
           {
            "marker": {
             "colorbar": {
              "outlinewidth": 0,
              "ticks": ""
             }
            },
            "type": "scatterpolargl"
           }
          ],
          "scatterternary": [
           {
            "marker": {
             "colorbar": {
              "outlinewidth": 0,
              "ticks": ""
             }
            },
            "type": "scatterternary"
           }
          ],
          "surface": [
           {
            "colorbar": {
             "outlinewidth": 0,
             "ticks": ""
            },
            "colorscale": [
             [
              0,
              "#0d0887"
             ],
             [
              0.1111111111111111,
              "#46039f"
             ],
             [
              0.2222222222222222,
              "#7201a8"
             ],
             [
              0.3333333333333333,
              "#9c179e"
             ],
             [
              0.4444444444444444,
              "#bd3786"
             ],
             [
              0.5555555555555556,
              "#d8576b"
             ],
             [
              0.6666666666666666,
              "#ed7953"
             ],
             [
              0.7777777777777778,
              "#fb9f3a"
             ],
             [
              0.8888888888888888,
              "#fdca26"
             ],
             [
              1,
              "#f0f921"
             ]
            ],
            "type": "surface"
           }
          ],
          "table": [
           {
            "cells": {
             "fill": {
              "color": "#EBF0F8"
             },
             "line": {
              "color": "white"
             }
            },
            "header": {
             "fill": {
              "color": "#C8D4E3"
             },
             "line": {
              "color": "white"
             }
            },
            "type": "table"
           }
          ]
         },
         "layout": {
          "annotationdefaults": {
           "arrowcolor": "#2a3f5f",
           "arrowhead": 0,
           "arrowwidth": 1
          },
          "autotypenumbers": "strict",
          "coloraxis": {
           "colorbar": {
            "outlinewidth": 0,
            "ticks": ""
           }
          },
          "colorscale": {
           "diverging": [
            [
             0,
             "#8e0152"
            ],
            [
             0.1,
             "#c51b7d"
            ],
            [
             0.2,
             "#de77ae"
            ],
            [
             0.3,
             "#f1b6da"
            ],
            [
             0.4,
             "#fde0ef"
            ],
            [
             0.5,
             "#f7f7f7"
            ],
            [
             0.6,
             "#e6f5d0"
            ],
            [
             0.7,
             "#b8e186"
            ],
            [
             0.8,
             "#7fbc41"
            ],
            [
             0.9,
             "#4d9221"
            ],
            [
             1,
             "#276419"
            ]
           ],
           "sequential": [
            [
             0,
             "#0d0887"
            ],
            [
             0.1111111111111111,
             "#46039f"
            ],
            [
             0.2222222222222222,
             "#7201a8"
            ],
            [
             0.3333333333333333,
             "#9c179e"
            ],
            [
             0.4444444444444444,
             "#bd3786"
            ],
            [
             0.5555555555555556,
             "#d8576b"
            ],
            [
             0.6666666666666666,
             "#ed7953"
            ],
            [
             0.7777777777777778,
             "#fb9f3a"
            ],
            [
             0.8888888888888888,
             "#fdca26"
            ],
            [
             1,
             "#f0f921"
            ]
           ],
           "sequentialminus": [
            [
             0,
             "#0d0887"
            ],
            [
             0.1111111111111111,
             "#46039f"
            ],
            [
             0.2222222222222222,
             "#7201a8"
            ],
            [
             0.3333333333333333,
             "#9c179e"
            ],
            [
             0.4444444444444444,
             "#bd3786"
            ],
            [
             0.5555555555555556,
             "#d8576b"
            ],
            [
             0.6666666666666666,
             "#ed7953"
            ],
            [
             0.7777777777777778,
             "#fb9f3a"
            ],
            [
             0.8888888888888888,
             "#fdca26"
            ],
            [
             1,
             "#f0f921"
            ]
           ]
          },
          "colorway": [
           "#636efa",
           "#EF553B",
           "#00cc96",
           "#ab63fa",
           "#FFA15A",
           "#19d3f3",
           "#FF6692",
           "#B6E880",
           "#FF97FF",
           "#FECB52"
          ],
          "font": {
           "color": "#2a3f5f"
          },
          "geo": {
           "bgcolor": "white",
           "lakecolor": "white",
           "landcolor": "#E5ECF6",
           "showlakes": true,
           "showland": true,
           "subunitcolor": "white"
          },
          "hoverlabel": {
           "align": "left"
          },
          "hovermode": "closest",
          "mapbox": {
           "style": "light"
          },
          "paper_bgcolor": "white",
          "plot_bgcolor": "#E5ECF6",
          "polar": {
           "angularaxis": {
            "gridcolor": "white",
            "linecolor": "white",
            "ticks": ""
           },
           "bgcolor": "#E5ECF6",
           "radialaxis": {
            "gridcolor": "white",
            "linecolor": "white",
            "ticks": ""
           }
          },
          "scene": {
           "xaxis": {
            "backgroundcolor": "#E5ECF6",
            "gridcolor": "white",
            "gridwidth": 2,
            "linecolor": "white",
            "showbackground": true,
            "ticks": "",
            "zerolinecolor": "white"
           },
           "yaxis": {
            "backgroundcolor": "#E5ECF6",
            "gridcolor": "white",
            "gridwidth": 2,
            "linecolor": "white",
            "showbackground": true,
            "ticks": "",
            "zerolinecolor": "white"
           },
           "zaxis": {
            "backgroundcolor": "#E5ECF6",
            "gridcolor": "white",
            "gridwidth": 2,
            "linecolor": "white",
            "showbackground": true,
            "ticks": "",
            "zerolinecolor": "white"
           }
          },
          "shapedefaults": {
           "line": {
            "color": "#2a3f5f"
           }
          },
          "ternary": {
           "aaxis": {
            "gridcolor": "white",
            "linecolor": "white",
            "ticks": ""
           },
           "baxis": {
            "gridcolor": "white",
            "linecolor": "white",
            "ticks": ""
           },
           "bgcolor": "#E5ECF6",
           "caxis": {
            "gridcolor": "white",
            "linecolor": "white",
            "ticks": ""
           }
          },
          "title": {
           "x": 0.05
          },
          "xaxis": {
           "automargin": true,
           "gridcolor": "white",
           "linecolor": "white",
           "ticks": "",
           "title": {
            "standoff": 15
           },
           "zerolinecolor": "white",
           "zerolinewidth": 2
          },
          "yaxis": {
           "automargin": true,
           "gridcolor": "white",
           "linecolor": "white",
           "ticks": "",
           "title": {
            "standoff": 15
           },
           "zerolinecolor": "white",
           "zerolinewidth": 2
          }
         }
        },
        "title": {
         "text": "Scatter Plot with Color by Department and Size by PerformanceScore"
        },
        "xaxis": {
         "anchor": "y",
         "domain": [
          0,
          1
         ],
         "title": {
          "text": "Employee Age"
         }
        },
        "yaxis": {
         "anchor": "x",
         "domain": [
          0,
          1
         ],
         "title": {
          "text": "Salary (USD)"
         }
        }
       }
      }
     },
     "metadata": {},
     "output_type": "display_data"
    }
   ],
   "source": [
    "fig_color_size = px.scatter(\n",
    "    df,\n",
    "    x=\"Age\",\n",
    "    y=\"Salary\",\n",
    "    color=\"Department\",\n",
    "    size=\"PerformanceScore\",\n",
    "    title=\"Scatter Plot with Color by Department and Size by PerformanceScore\",\n",
    "    labels={\n",
    "        \"Age\": \"Employee Age\",\n",
    "        \"Salary\": \"Salary (USD)\",\n",
    "        \"PerformanceScore\": \"Performance Score\",\n",
    "    },\n",
    "    hover_data=[\"Department\", \"PerformanceScore\"],\n",
    ")\n",
    "fig_color_size.show()"
   ]
  },
  {
   "cell_type": "markdown",
   "id": "15f1c69e-9d0b-4756-84fa-1c1383d4856f",
   "metadata": {},
   "source": [
    "# 5. FACETED SCATTER PLOTS\n",
    "Sometimes it's helpful to view separate scatter plots for each\n",
    "category (e.g., each Department). We can use facet_col or facet_row\n",
    "to split the scatter plot by a categorical column."
   ]
  },
  {
   "cell_type": "code",
   "execution_count": 5,
   "id": "1f57064b-3cc5-48e0-b2a0-0efc4fc9b004",
   "metadata": {},
   "outputs": [
    {
     "data": {
      "application/vnd.plotly.v1+json": {
       "config": {
        "plotlyServerURL": "https://plot.ly"
       },
       "data": [
        {
         "hovertemplate": "Department=HR<br>Age=%{x}<br>Salary=%{y}<extra></extra>",
         "legendgroup": "HR",
         "marker": {
          "color": "#636efa",
          "symbol": "circle"
         },
         "mode": "markers",
         "name": "HR",
         "orientation": "v",
         "showlegend": true,
         "type": "scatter",
         "x": [
          58,
          34,
          42,
          30,
          30,
          43,
          55,
          43,
          44,
          47,
          35,
          34,
          22,
          56,
          28,
          23,
          33,
          36,
          59,
          21,
          53,
          35,
          43,
          44,
          48,
          20,
          44,
          28,
          20,
          30,
          36,
          27,
          58,
          28,
          31,
          52,
          56,
          54,
          20,
          22,
          20,
          33,
          28,
          34,
          32,
          51,
          58,
          51,
          49,
          56,
          58,
          41,
          21,
          49,
          30,
          47
         ],
         "xaxis": "x3",
         "y": [
          53776,
          96842,
          39474,
          135830,
          88053,
          51959,
          35530,
          43545,
          98840,
          84384,
          81005,
          76576,
          69353,
          92003,
          95318,
          53664,
          115616,
          68623,
          85680,
          149937,
          93734,
          82083,
          95733,
          64698,
          140078,
          52671,
          55184,
          72107,
          139893,
          121906,
          79811,
          32811,
          125742,
          32911,
          113763,
          114896,
          118614,
          38155,
          103656,
          51918,
          115981,
          46646,
          120735,
          46371,
          141472,
          32049,
          61616,
          133727,
          50932,
          147796,
          91434,
          81407,
          34499,
          42874,
          146336,
          62711
         ],
         "yaxis": "y3"
        },
        {
         "hovertemplate": "Department=Sales<br>Age=%{x}<br>Salary=%{y}<extra></extra>",
         "legendgroup": "Sales",
         "marker": {
          "color": "#EF553B",
          "symbol": "circle"
         },
         "mode": "markers",
         "name": "Sales",
         "orientation": "v",
         "showlegend": true,
         "type": "scatter",
         "x": [
          48,
          40,
          59,
          57,
          21,
          31,
          41,
          46,
          40,
          58,
          37,
          45,
          26,
          27,
          25,
          55,
          33,
          34,
          42,
          40,
          45,
          34,
          26,
          43,
          27,
          43,
          24,
          47,
          27,
          53,
          54,
          54,
          56,
          33,
          24,
          45,
          58,
          34,
          42,
          34,
          26,
          25,
          47,
          47,
          44
         ],
         "xaxis": "x2",
         "y": [
          60080,
          36776,
          124856,
          64766,
          103530,
          125839,
          146183,
          148451,
          82733,
          139953,
          119474,
          145386,
          142859,
          142181,
          117092,
          82662,
          128506,
          148906,
          67157,
          136308,
          119045,
          110623,
          123384,
          116202,
          81663,
          45708,
          64754,
          136642,
          97270,
          38680,
          130689,
          69384,
          142561,
          77254,
          90713,
          60306,
          76843,
          137512,
          59855,
          102694,
          45151,
          36295,
          89040,
          42183,
          35539
         ],
         "yaxis": "y2"
        },
        {
         "hovertemplate": "Department=IT<br>Age=%{x}<br>Salary=%{y}<extra></extra>",
         "legendgroup": "IT",
         "marker": {
          "color": "#00cc96",
          "symbol": "circle"
         },
         "mode": "markers",
         "name": "IT",
         "orientation": "v",
         "showlegend": true,
         "type": "scatter",
         "x": [
          27,
          58,
          38,
          43,
          22,
          41,
          21,
          49,
          40,
          52,
          26,
          44,
          28,
          21,
          39,
          47,
          54,
          33,
          55,
          23,
          23,
          48,
          37,
          45,
          29,
          50,
          27,
          33,
          59,
          37,
          54,
          54,
          52,
          26,
          42,
          43,
          59,
          41,
          46,
          46,
          45,
          23,
          48,
          55,
          32,
          51,
          47,
          39,
          58
         ],
         "xaxis": "x",
         "y": [
          91373,
          122787,
          85016,
          149101,
          33748,
          127504,
          128098,
          96199,
          123557,
          91087,
          113211,
          97172,
          123264,
          56736,
          124209,
          133041,
          30854,
          120084,
          37392,
          76717,
          80859,
          134095,
          56309,
          117455,
          100467,
          139751,
          42688,
          55342,
          97863,
          136081,
          86250,
          142547,
          102082,
          41411,
          113879,
          101295,
          41111,
          67504,
          31802,
          126601,
          107371,
          142893,
          73016,
          37400,
          147858,
          72642,
          96690,
          59299,
          137941
         ],
         "yaxis": "y"
        }
       ],
       "layout": {
        "annotations": [
         {
          "font": {},
          "showarrow": false,
          "text": "Department=IT",
          "x": 0.5,
          "xanchor": "center",
          "xref": "paper",
          "y": 0.2866666666666666,
          "yanchor": "bottom",
          "yref": "paper"
         },
         {
          "font": {},
          "showarrow": false,
          "text": "Department=Sales",
          "x": 0.5,
          "xanchor": "center",
          "xref": "paper",
          "y": 0.6433333333333333,
          "yanchor": "bottom",
          "yref": "paper"
         },
         {
          "font": {},
          "showarrow": false,
          "text": "Department=HR",
          "x": 0.5,
          "xanchor": "center",
          "xref": "paper",
          "y": 0.9999999999999999,
          "yanchor": "bottom",
          "yref": "paper"
         }
        ],
        "height": 800,
        "legend": {
         "title": {
          "text": "Department"
         },
         "tracegroupgap": 0
        },
        "template": {
         "data": {
          "bar": [
           {
            "error_x": {
             "color": "#2a3f5f"
            },
            "error_y": {
             "color": "#2a3f5f"
            },
            "marker": {
             "line": {
              "color": "#E5ECF6",
              "width": 0.5
             },
             "pattern": {
              "fillmode": "overlay",
              "size": 10,
              "solidity": 0.2
             }
            },
            "type": "bar"
           }
          ],
          "barpolar": [
           {
            "marker": {
             "line": {
              "color": "#E5ECF6",
              "width": 0.5
             },
             "pattern": {
              "fillmode": "overlay",
              "size": 10,
              "solidity": 0.2
             }
            },
            "type": "barpolar"
           }
          ],
          "carpet": [
           {
            "aaxis": {
             "endlinecolor": "#2a3f5f",
             "gridcolor": "white",
             "linecolor": "white",
             "minorgridcolor": "white",
             "startlinecolor": "#2a3f5f"
            },
            "baxis": {
             "endlinecolor": "#2a3f5f",
             "gridcolor": "white",
             "linecolor": "white",
             "minorgridcolor": "white",
             "startlinecolor": "#2a3f5f"
            },
            "type": "carpet"
           }
          ],
          "choropleth": [
           {
            "colorbar": {
             "outlinewidth": 0,
             "ticks": ""
            },
            "type": "choropleth"
           }
          ],
          "contour": [
           {
            "colorbar": {
             "outlinewidth": 0,
             "ticks": ""
            },
            "colorscale": [
             [
              0,
              "#0d0887"
             ],
             [
              0.1111111111111111,
              "#46039f"
             ],
             [
              0.2222222222222222,
              "#7201a8"
             ],
             [
              0.3333333333333333,
              "#9c179e"
             ],
             [
              0.4444444444444444,
              "#bd3786"
             ],
             [
              0.5555555555555556,
              "#d8576b"
             ],
             [
              0.6666666666666666,
              "#ed7953"
             ],
             [
              0.7777777777777778,
              "#fb9f3a"
             ],
             [
              0.8888888888888888,
              "#fdca26"
             ],
             [
              1,
              "#f0f921"
             ]
            ],
            "type": "contour"
           }
          ],
          "contourcarpet": [
           {
            "colorbar": {
             "outlinewidth": 0,
             "ticks": ""
            },
            "type": "contourcarpet"
           }
          ],
          "heatmap": [
           {
            "colorbar": {
             "outlinewidth": 0,
             "ticks": ""
            },
            "colorscale": [
             [
              0,
              "#0d0887"
             ],
             [
              0.1111111111111111,
              "#46039f"
             ],
             [
              0.2222222222222222,
              "#7201a8"
             ],
             [
              0.3333333333333333,
              "#9c179e"
             ],
             [
              0.4444444444444444,
              "#bd3786"
             ],
             [
              0.5555555555555556,
              "#d8576b"
             ],
             [
              0.6666666666666666,
              "#ed7953"
             ],
             [
              0.7777777777777778,
              "#fb9f3a"
             ],
             [
              0.8888888888888888,
              "#fdca26"
             ],
             [
              1,
              "#f0f921"
             ]
            ],
            "type": "heatmap"
           }
          ],
          "heatmapgl": [
           {
            "colorbar": {
             "outlinewidth": 0,
             "ticks": ""
            },
            "colorscale": [
             [
              0,
              "#0d0887"
             ],
             [
              0.1111111111111111,
              "#46039f"
             ],
             [
              0.2222222222222222,
              "#7201a8"
             ],
             [
              0.3333333333333333,
              "#9c179e"
             ],
             [
              0.4444444444444444,
              "#bd3786"
             ],
             [
              0.5555555555555556,
              "#d8576b"
             ],
             [
              0.6666666666666666,
              "#ed7953"
             ],
             [
              0.7777777777777778,
              "#fb9f3a"
             ],
             [
              0.8888888888888888,
              "#fdca26"
             ],
             [
              1,
              "#f0f921"
             ]
            ],
            "type": "heatmapgl"
           }
          ],
          "histogram": [
           {
            "marker": {
             "pattern": {
              "fillmode": "overlay",
              "size": 10,
              "solidity": 0.2
             }
            },
            "type": "histogram"
           }
          ],
          "histogram2d": [
           {
            "colorbar": {
             "outlinewidth": 0,
             "ticks": ""
            },
            "colorscale": [
             [
              0,
              "#0d0887"
             ],
             [
              0.1111111111111111,
              "#46039f"
             ],
             [
              0.2222222222222222,
              "#7201a8"
             ],
             [
              0.3333333333333333,
              "#9c179e"
             ],
             [
              0.4444444444444444,
              "#bd3786"
             ],
             [
              0.5555555555555556,
              "#d8576b"
             ],
             [
              0.6666666666666666,
              "#ed7953"
             ],
             [
              0.7777777777777778,
              "#fb9f3a"
             ],
             [
              0.8888888888888888,
              "#fdca26"
             ],
             [
              1,
              "#f0f921"
             ]
            ],
            "type": "histogram2d"
           }
          ],
          "histogram2dcontour": [
           {
            "colorbar": {
             "outlinewidth": 0,
             "ticks": ""
            },
            "colorscale": [
             [
              0,
              "#0d0887"
             ],
             [
              0.1111111111111111,
              "#46039f"
             ],
             [
              0.2222222222222222,
              "#7201a8"
             ],
             [
              0.3333333333333333,
              "#9c179e"
             ],
             [
              0.4444444444444444,
              "#bd3786"
             ],
             [
              0.5555555555555556,
              "#d8576b"
             ],
             [
              0.6666666666666666,
              "#ed7953"
             ],
             [
              0.7777777777777778,
              "#fb9f3a"
             ],
             [
              0.8888888888888888,
              "#fdca26"
             ],
             [
              1,
              "#f0f921"
             ]
            ],
            "type": "histogram2dcontour"
           }
          ],
          "mesh3d": [
           {
            "colorbar": {
             "outlinewidth": 0,
             "ticks": ""
            },
            "type": "mesh3d"
           }
          ],
          "parcoords": [
           {
            "line": {
             "colorbar": {
              "outlinewidth": 0,
              "ticks": ""
             }
            },
            "type": "parcoords"
           }
          ],
          "pie": [
           {
            "automargin": true,
            "type": "pie"
           }
          ],
          "scatter": [
           {
            "fillpattern": {
             "fillmode": "overlay",
             "size": 10,
             "solidity": 0.2
            },
            "type": "scatter"
           }
          ],
          "scatter3d": [
           {
            "line": {
             "colorbar": {
              "outlinewidth": 0,
              "ticks": ""
             }
            },
            "marker": {
             "colorbar": {
              "outlinewidth": 0,
              "ticks": ""
             }
            },
            "type": "scatter3d"
           }
          ],
          "scattercarpet": [
           {
            "marker": {
             "colorbar": {
              "outlinewidth": 0,
              "ticks": ""
             }
            },
            "type": "scattercarpet"
           }
          ],
          "scattergeo": [
           {
            "marker": {
             "colorbar": {
              "outlinewidth": 0,
              "ticks": ""
             }
            },
            "type": "scattergeo"
           }
          ],
          "scattergl": [
           {
            "marker": {
             "colorbar": {
              "outlinewidth": 0,
              "ticks": ""
             }
            },
            "type": "scattergl"
           }
          ],
          "scattermapbox": [
           {
            "marker": {
             "colorbar": {
              "outlinewidth": 0,
              "ticks": ""
             }
            },
            "type": "scattermapbox"
           }
          ],
          "scatterpolar": [
           {
            "marker": {
             "colorbar": {
              "outlinewidth": 0,
              "ticks": ""
             }
            },
            "type": "scatterpolar"
           }
          ],
          "scatterpolargl": [
           {
            "marker": {
             "colorbar": {
              "outlinewidth": 0,
              "ticks": ""
             }
            },
            "type": "scatterpolargl"
           }
          ],
          "scatterternary": [
           {
            "marker": {
             "colorbar": {
              "outlinewidth": 0,
              "ticks": ""
             }
            },
            "type": "scatterternary"
           }
          ],
          "surface": [
           {
            "colorbar": {
             "outlinewidth": 0,
             "ticks": ""
            },
            "colorscale": [
             [
              0,
              "#0d0887"
             ],
             [
              0.1111111111111111,
              "#46039f"
             ],
             [
              0.2222222222222222,
              "#7201a8"
             ],
             [
              0.3333333333333333,
              "#9c179e"
             ],
             [
              0.4444444444444444,
              "#bd3786"
             ],
             [
              0.5555555555555556,
              "#d8576b"
             ],
             [
              0.6666666666666666,
              "#ed7953"
             ],
             [
              0.7777777777777778,
              "#fb9f3a"
             ],
             [
              0.8888888888888888,
              "#fdca26"
             ],
             [
              1,
              "#f0f921"
             ]
            ],
            "type": "surface"
           }
          ],
          "table": [
           {
            "cells": {
             "fill": {
              "color": "#EBF0F8"
             },
             "line": {
              "color": "white"
             }
            },
            "header": {
             "fill": {
              "color": "#C8D4E3"
             },
             "line": {
              "color": "white"
             }
            },
            "type": "table"
           }
          ]
         },
         "layout": {
          "annotationdefaults": {
           "arrowcolor": "#2a3f5f",
           "arrowhead": 0,
           "arrowwidth": 1
          },
          "autotypenumbers": "strict",
          "coloraxis": {
           "colorbar": {
            "outlinewidth": 0,
            "ticks": ""
           }
          },
          "colorscale": {
           "diverging": [
            [
             0,
             "#8e0152"
            ],
            [
             0.1,
             "#c51b7d"
            ],
            [
             0.2,
             "#de77ae"
            ],
            [
             0.3,
             "#f1b6da"
            ],
            [
             0.4,
             "#fde0ef"
            ],
            [
             0.5,
             "#f7f7f7"
            ],
            [
             0.6,
             "#e6f5d0"
            ],
            [
             0.7,
             "#b8e186"
            ],
            [
             0.8,
             "#7fbc41"
            ],
            [
             0.9,
             "#4d9221"
            ],
            [
             1,
             "#276419"
            ]
           ],
           "sequential": [
            [
             0,
             "#0d0887"
            ],
            [
             0.1111111111111111,
             "#46039f"
            ],
            [
             0.2222222222222222,
             "#7201a8"
            ],
            [
             0.3333333333333333,
             "#9c179e"
            ],
            [
             0.4444444444444444,
             "#bd3786"
            ],
            [
             0.5555555555555556,
             "#d8576b"
            ],
            [
             0.6666666666666666,
             "#ed7953"
            ],
            [
             0.7777777777777778,
             "#fb9f3a"
            ],
            [
             0.8888888888888888,
             "#fdca26"
            ],
            [
             1,
             "#f0f921"
            ]
           ],
           "sequentialminus": [
            [
             0,
             "#0d0887"
            ],
            [
             0.1111111111111111,
             "#46039f"
            ],
            [
             0.2222222222222222,
             "#7201a8"
            ],
            [
             0.3333333333333333,
             "#9c179e"
            ],
            [
             0.4444444444444444,
             "#bd3786"
            ],
            [
             0.5555555555555556,
             "#d8576b"
            ],
            [
             0.6666666666666666,
             "#ed7953"
            ],
            [
             0.7777777777777778,
             "#fb9f3a"
            ],
            [
             0.8888888888888888,
             "#fdca26"
            ],
            [
             1,
             "#f0f921"
            ]
           ]
          },
          "colorway": [
           "#636efa",
           "#EF553B",
           "#00cc96",
           "#ab63fa",
           "#FFA15A",
           "#19d3f3",
           "#FF6692",
           "#B6E880",
           "#FF97FF",
           "#FECB52"
          ],
          "font": {
           "color": "#2a3f5f"
          },
          "geo": {
           "bgcolor": "white",
           "lakecolor": "white",
           "landcolor": "#E5ECF6",
           "showlakes": true,
           "showland": true,
           "subunitcolor": "white"
          },
          "hoverlabel": {
           "align": "left"
          },
          "hovermode": "closest",
          "mapbox": {
           "style": "light"
          },
          "paper_bgcolor": "white",
          "plot_bgcolor": "#E5ECF6",
          "polar": {
           "angularaxis": {
            "gridcolor": "white",
            "linecolor": "white",
            "ticks": ""
           },
           "bgcolor": "#E5ECF6",
           "radialaxis": {
            "gridcolor": "white",
            "linecolor": "white",
            "ticks": ""
           }
          },
          "scene": {
           "xaxis": {
            "backgroundcolor": "#E5ECF6",
            "gridcolor": "white",
            "gridwidth": 2,
            "linecolor": "white",
            "showbackground": true,
            "ticks": "",
            "zerolinecolor": "white"
           },
           "yaxis": {
            "backgroundcolor": "#E5ECF6",
            "gridcolor": "white",
            "gridwidth": 2,
            "linecolor": "white",
            "showbackground": true,
            "ticks": "",
            "zerolinecolor": "white"
           },
           "zaxis": {
            "backgroundcolor": "#E5ECF6",
            "gridcolor": "white",
            "gridwidth": 2,
            "linecolor": "white",
            "showbackground": true,
            "ticks": "",
            "zerolinecolor": "white"
           }
          },
          "shapedefaults": {
           "line": {
            "color": "#2a3f5f"
           }
          },
          "ternary": {
           "aaxis": {
            "gridcolor": "white",
            "linecolor": "white",
            "ticks": ""
           },
           "baxis": {
            "gridcolor": "white",
            "linecolor": "white",
            "ticks": ""
           },
           "bgcolor": "#E5ECF6",
           "caxis": {
            "gridcolor": "white",
            "linecolor": "white",
            "ticks": ""
           }
          },
          "title": {
           "x": 0.05
          },
          "xaxis": {
           "automargin": true,
           "gridcolor": "white",
           "linecolor": "white",
           "ticks": "",
           "title": {
            "standoff": 15
           },
           "zerolinecolor": "white",
           "zerolinewidth": 2
          },
          "yaxis": {
           "automargin": true,
           "gridcolor": "white",
           "linecolor": "white",
           "ticks": "",
           "title": {
            "standoff": 15
           },
           "zerolinecolor": "white",
           "zerolinewidth": 2
          }
         }
        },
        "title": {
         "text": "Faceted Scatter Plots by Department"
        },
        "xaxis": {
         "anchor": "y",
         "domain": [
          0,
          1
         ],
         "title": {
          "text": "Age"
         }
        },
        "xaxis2": {
         "anchor": "y2",
         "domain": [
          0,
          1
         ],
         "matches": "x",
         "showticklabels": false
        },
        "xaxis3": {
         "anchor": "y3",
         "domain": [
          0,
          1
         ],
         "matches": "x",
         "showticklabels": false
        },
        "yaxis": {
         "anchor": "x",
         "domain": [
          0,
          0.2866666666666666
         ],
         "title": {
          "text": "Salary"
         }
        },
        "yaxis2": {
         "anchor": "x2",
         "domain": [
          0.35666666666666663,
          0.6433333333333333
         ],
         "matches": "y",
         "title": {
          "text": "Salary"
         }
        },
        "yaxis3": {
         "anchor": "x3",
         "domain": [
          0.7133333333333333,
          0.9999999999999999
         ],
         "matches": "y",
         "title": {
          "text": "Salary"
         }
        }
       }
      }
     },
     "metadata": {},
     "output_type": "display_data"
    }
   ],
   "source": [
    "fig_facet = px.scatter(\n",
    "    df,\n",
    "    x=\"Age\",\n",
    "    y=\"Salary\",\n",
    "    color=\"Department\",\n",
    "    facet_col=\"Department\",\n",
    "    facet_col_wrap=1,  # Places each facet on a separate row\n",
    "    title=\"Faceted Scatter Plots by Department\",\n",
    ")\n",
    "# Adjust the layout for readability\n",
    "fig_facet.update_layout(height=800)\n",
    "fig_facet.show()"
   ]
  },
  {
   "cell_type": "markdown",
   "id": "c5d2cb89-4efd-4704-bd43-d4df312dabc4",
   "metadata": {},
   "source": [
    "\n",
    "\n",
    "# 6. SCATTER PLOT WITH MULTIPLE DIMENSIONS\n",
    "We can also visualize data in 3D. Let's create a 3D scatter plot\n",
    "to explore Age, Salary, and PerformanceScore. We'll color points\n",
    "by Department.\"\"\""
   ]
  },
  {
   "cell_type": "code",
   "execution_count": 6,
   "id": "b608d58b-962d-4d0c-ab7f-2d710488ba59",
   "metadata": {},
   "outputs": [
    {
     "data": {
      "application/vnd.plotly.v1+json": {
       "config": {
        "plotlyServerURL": "https://plot.ly"
       },
       "data": [
        {
         "hovertemplate": "Department=HR<br>Age=%{x}<br>Salary=%{y}<br>PerformanceScore=%{z}<extra></extra>",
         "legendgroup": "HR",
         "marker": {
          "color": "#636efa",
          "symbol": "circle"
         },
         "mode": "markers",
         "name": "HR",
         "scene": "scene",
         "showlegend": true,
         "type": "scatter3d",
         "x": [
          58,
          34,
          42,
          30,
          30,
          43,
          55,
          43,
          44,
          47,
          35,
          34,
          22,
          56,
          28,
          23,
          33,
          36,
          59,
          21,
          53,
          35,
          43,
          44,
          48,
          20,
          44,
          28,
          20,
          30,
          36,
          27,
          58,
          28,
          31,
          52,
          56,
          54,
          20,
          22,
          20,
          33,
          28,
          34,
          32,
          51,
          58,
          51,
          49,
          56,
          58,
          41,
          21,
          49,
          30,
          47
         ],
         "y": [
          53776,
          96842,
          39474,
          135830,
          88053,
          51959,
          35530,
          43545,
          98840,
          84384,
          81005,
          76576,
          69353,
          92003,
          95318,
          53664,
          115616,
          68623,
          85680,
          149937,
          93734,
          82083,
          95733,
          64698,
          140078,
          52671,
          55184,
          72107,
          139893,
          121906,
          79811,
          32811,
          125742,
          32911,
          113763,
          114896,
          118614,
          38155,
          103656,
          51918,
          115981,
          46646,
          120735,
          46371,
          141472,
          32049,
          61616,
          133727,
          50932,
          147796,
          91434,
          81407,
          34499,
          42874,
          146336,
          62711
         ],
         "z": [
          4.59,
          7.7,
          7.2,
          1.52,
          9.24,
          4.98,
          3.16,
          6.91,
          1.83,
          3.8,
          9.82,
          2.58,
          1.15,
          7.87,
          5.18,
          9.54,
          3.35,
          6.73,
          7.09,
          2.16,
          2.86,
          3.35,
          7.24,
          9.43,
          1.35,
          9.71,
          5.93,
          6.12,
          7.58,
          6.22,
          8.8,
          6.06,
          4.4,
          4.51,
          1.9,
          9.63,
          9.61,
          1.83,
          6.42,
          8.03,
          2.02,
          9.96,
          5.91,
          9.72,
          8.53,
          8.8,
          8.55,
          4.83,
          4.57,
          9.03,
          5.62,
          6.33,
          7.37,
          3.97,
          4.91,
          3.28
         ]
        },
        {
         "hovertemplate": "Department=Sales<br>Age=%{x}<br>Salary=%{y}<br>PerformanceScore=%{z}<extra></extra>",
         "legendgroup": "Sales",
         "marker": {
          "color": "#EF553B",
          "symbol": "circle"
         },
         "mode": "markers",
         "name": "Sales",
         "scene": "scene",
         "showlegend": true,
         "type": "scatter3d",
         "x": [
          48,
          40,
          59,
          57,
          21,
          31,
          41,
          46,
          40,
          58,
          37,
          45,
          26,
          27,
          25,
          55,
          33,
          34,
          42,
          40,
          45,
          34,
          26,
          43,
          27,
          43,
          24,
          47,
          27,
          53,
          54,
          54,
          56,
          33,
          24,
          45,
          58,
          34,
          42,
          34,
          26,
          25,
          47,
          47,
          44
         ],
         "y": [
          60080,
          36776,
          124856,
          64766,
          103530,
          125839,
          146183,
          148451,
          82733,
          139953,
          119474,
          145386,
          142859,
          142181,
          117092,
          82662,
          128506,
          148906,
          67157,
          136308,
          119045,
          110623,
          123384,
          116202,
          81663,
          45708,
          64754,
          136642,
          97270,
          38680,
          130689,
          69384,
          142561,
          77254,
          90713,
          60306,
          76843,
          137512,
          59855,
          102694,
          45151,
          36295,
          89040,
          42183,
          35539
         ],
         "z": [
          4.9,
          2.66,
          1.84,
          7.57,
          1.43,
          2.08,
          4.08,
          1.85,
          4.12,
          6.85,
          1.43,
          9.4,
          6.54,
          9.5,
          8.3,
          2.93,
          4.4,
          6.56,
          4.47,
          4.07,
          4.14,
          4.76,
          4.81,
          6.18,
          2.15,
          3.25,
          3.14,
          5.81,
          3.68,
          1.48,
          7.09,
          5.98,
          2.91,
          9.52,
          9.38,
          9.77,
          1.5,
          7.35,
          2.32,
          3.1,
          9.17,
          5.34,
          4.4,
          7.35,
          4.65
         ]
        },
        {
         "hovertemplate": "Department=IT<br>Age=%{x}<br>Salary=%{y}<br>PerformanceScore=%{z}<extra></extra>",
         "legendgroup": "IT",
         "marker": {
          "color": "#00cc96",
          "symbol": "circle"
         },
         "mode": "markers",
         "name": "IT",
         "scene": "scene",
         "showlegend": true,
         "type": "scatter3d",
         "x": [
          27,
          58,
          38,
          43,
          22,
          41,
          21,
          49,
          40,
          52,
          26,
          44,
          28,
          21,
          39,
          47,
          54,
          33,
          55,
          23,
          23,
          48,
          37,
          45,
          29,
          50,
          27,
          33,
          59,
          37,
          54,
          54,
          52,
          26,
          42,
          43,
          59,
          41,
          46,
          46,
          45,
          23,
          48,
          55,
          32,
          51,
          47,
          39,
          58
         ],
         "y": [
          91373,
          122787,
          85016,
          149101,
          33748,
          127504,
          128098,
          96199,
          123557,
          91087,
          113211,
          97172,
          123264,
          56736,
          124209,
          133041,
          30854,
          120084,
          37392,
          76717,
          80859,
          134095,
          56309,
          117455,
          100467,
          139751,
          42688,
          55342,
          97863,
          136081,
          86250,
          142547,
          102082,
          41411,
          113879,
          101295,
          41111,
          67504,
          31802,
          126601,
          107371,
          142893,
          73016,
          37400,
          147858,
          72642,
          96690,
          59299,
          137941
         ],
         "z": [
          3.26,
          1.73,
          4.85,
          2.65,
          9.41,
          6.74,
          5.65,
          4.92,
          6.09,
          2.43,
          8.26,
          8.98,
          1.14,
          5.51,
          5.85,
          7.16,
          9.5,
          8.8,
          8.21,
          6.16,
          8.39,
          6.63,
          8.38,
          6.86,
          3.47,
          1.35,
          4.03,
          6.9,
          7.13,
          5.46,
          3.15,
          7.12,
          7.66,
          5.47,
          8.62,
          4.19,
          5.34,
          5.44,
          1.75,
          7.63,
          7.19,
          3,
          6.23,
          8.77,
          8.92,
          3.13,
          4.15,
          3.24,
          6.14
         ]
        }
       ],
       "layout": {
        "legend": {
         "title": {
          "text": "Department"
         },
         "tracegroupgap": 0
        },
        "scene": {
         "domain": {
          "x": [
           0,
           1
          ],
          "y": [
           0,
           1
          ]
         },
         "xaxis": {
          "title": {
           "text": "Age"
          }
         },
         "yaxis": {
          "title": {
           "text": "Salary"
          }
         },
         "zaxis": {
          "title": {
           "text": "PerformanceScore"
          }
         }
        },
        "template": {
         "data": {
          "bar": [
           {
            "error_x": {
             "color": "#2a3f5f"
            },
            "error_y": {
             "color": "#2a3f5f"
            },
            "marker": {
             "line": {
              "color": "#E5ECF6",
              "width": 0.5
             },
             "pattern": {
              "fillmode": "overlay",
              "size": 10,
              "solidity": 0.2
             }
            },
            "type": "bar"
           }
          ],
          "barpolar": [
           {
            "marker": {
             "line": {
              "color": "#E5ECF6",
              "width": 0.5
             },
             "pattern": {
              "fillmode": "overlay",
              "size": 10,
              "solidity": 0.2
             }
            },
            "type": "barpolar"
           }
          ],
          "carpet": [
           {
            "aaxis": {
             "endlinecolor": "#2a3f5f",
             "gridcolor": "white",
             "linecolor": "white",
             "minorgridcolor": "white",
             "startlinecolor": "#2a3f5f"
            },
            "baxis": {
             "endlinecolor": "#2a3f5f",
             "gridcolor": "white",
             "linecolor": "white",
             "minorgridcolor": "white",
             "startlinecolor": "#2a3f5f"
            },
            "type": "carpet"
           }
          ],
          "choropleth": [
           {
            "colorbar": {
             "outlinewidth": 0,
             "ticks": ""
            },
            "type": "choropleth"
           }
          ],
          "contour": [
           {
            "colorbar": {
             "outlinewidth": 0,
             "ticks": ""
            },
            "colorscale": [
             [
              0,
              "#0d0887"
             ],
             [
              0.1111111111111111,
              "#46039f"
             ],
             [
              0.2222222222222222,
              "#7201a8"
             ],
             [
              0.3333333333333333,
              "#9c179e"
             ],
             [
              0.4444444444444444,
              "#bd3786"
             ],
             [
              0.5555555555555556,
              "#d8576b"
             ],
             [
              0.6666666666666666,
              "#ed7953"
             ],
             [
              0.7777777777777778,
              "#fb9f3a"
             ],
             [
              0.8888888888888888,
              "#fdca26"
             ],
             [
              1,
              "#f0f921"
             ]
            ],
            "type": "contour"
           }
          ],
          "contourcarpet": [
           {
            "colorbar": {
             "outlinewidth": 0,
             "ticks": ""
            },
            "type": "contourcarpet"
           }
          ],
          "heatmap": [
           {
            "colorbar": {
             "outlinewidth": 0,
             "ticks": ""
            },
            "colorscale": [
             [
              0,
              "#0d0887"
             ],
             [
              0.1111111111111111,
              "#46039f"
             ],
             [
              0.2222222222222222,
              "#7201a8"
             ],
             [
              0.3333333333333333,
              "#9c179e"
             ],
             [
              0.4444444444444444,
              "#bd3786"
             ],
             [
              0.5555555555555556,
              "#d8576b"
             ],
             [
              0.6666666666666666,
              "#ed7953"
             ],
             [
              0.7777777777777778,
              "#fb9f3a"
             ],
             [
              0.8888888888888888,
              "#fdca26"
             ],
             [
              1,
              "#f0f921"
             ]
            ],
            "type": "heatmap"
           }
          ],
          "heatmapgl": [
           {
            "colorbar": {
             "outlinewidth": 0,
             "ticks": ""
            },
            "colorscale": [
             [
              0,
              "#0d0887"
             ],
             [
              0.1111111111111111,
              "#46039f"
             ],
             [
              0.2222222222222222,
              "#7201a8"
             ],
             [
              0.3333333333333333,
              "#9c179e"
             ],
             [
              0.4444444444444444,
              "#bd3786"
             ],
             [
              0.5555555555555556,
              "#d8576b"
             ],
             [
              0.6666666666666666,
              "#ed7953"
             ],
             [
              0.7777777777777778,
              "#fb9f3a"
             ],
             [
              0.8888888888888888,
              "#fdca26"
             ],
             [
              1,
              "#f0f921"
             ]
            ],
            "type": "heatmapgl"
           }
          ],
          "histogram": [
           {
            "marker": {
             "pattern": {
              "fillmode": "overlay",
              "size": 10,
              "solidity": 0.2
             }
            },
            "type": "histogram"
           }
          ],
          "histogram2d": [
           {
            "colorbar": {
             "outlinewidth": 0,
             "ticks": ""
            },
            "colorscale": [
             [
              0,
              "#0d0887"
             ],
             [
              0.1111111111111111,
              "#46039f"
             ],
             [
              0.2222222222222222,
              "#7201a8"
             ],
             [
              0.3333333333333333,
              "#9c179e"
             ],
             [
              0.4444444444444444,
              "#bd3786"
             ],
             [
              0.5555555555555556,
              "#d8576b"
             ],
             [
              0.6666666666666666,
              "#ed7953"
             ],
             [
              0.7777777777777778,
              "#fb9f3a"
             ],
             [
              0.8888888888888888,
              "#fdca26"
             ],
             [
              1,
              "#f0f921"
             ]
            ],
            "type": "histogram2d"
           }
          ],
          "histogram2dcontour": [
           {
            "colorbar": {
             "outlinewidth": 0,
             "ticks": ""
            },
            "colorscale": [
             [
              0,
              "#0d0887"
             ],
             [
              0.1111111111111111,
              "#46039f"
             ],
             [
              0.2222222222222222,
              "#7201a8"
             ],
             [
              0.3333333333333333,
              "#9c179e"
             ],
             [
              0.4444444444444444,
              "#bd3786"
             ],
             [
              0.5555555555555556,
              "#d8576b"
             ],
             [
              0.6666666666666666,
              "#ed7953"
             ],
             [
              0.7777777777777778,
              "#fb9f3a"
             ],
             [
              0.8888888888888888,
              "#fdca26"
             ],
             [
              1,
              "#f0f921"
             ]
            ],
            "type": "histogram2dcontour"
           }
          ],
          "mesh3d": [
           {
            "colorbar": {
             "outlinewidth": 0,
             "ticks": ""
            },
            "type": "mesh3d"
           }
          ],
          "parcoords": [
           {
            "line": {
             "colorbar": {
              "outlinewidth": 0,
              "ticks": ""
             }
            },
            "type": "parcoords"
           }
          ],
          "pie": [
           {
            "automargin": true,
            "type": "pie"
           }
          ],
          "scatter": [
           {
            "fillpattern": {
             "fillmode": "overlay",
             "size": 10,
             "solidity": 0.2
            },
            "type": "scatter"
           }
          ],
          "scatter3d": [
           {
            "line": {
             "colorbar": {
              "outlinewidth": 0,
              "ticks": ""
             }
            },
            "marker": {
             "colorbar": {
              "outlinewidth": 0,
              "ticks": ""
             }
            },
            "type": "scatter3d"
           }
          ],
          "scattercarpet": [
           {
            "marker": {
             "colorbar": {
              "outlinewidth": 0,
              "ticks": ""
             }
            },
            "type": "scattercarpet"
           }
          ],
          "scattergeo": [
           {
            "marker": {
             "colorbar": {
              "outlinewidth": 0,
              "ticks": ""
             }
            },
            "type": "scattergeo"
           }
          ],
          "scattergl": [
           {
            "marker": {
             "colorbar": {
              "outlinewidth": 0,
              "ticks": ""
             }
            },
            "type": "scattergl"
           }
          ],
          "scattermapbox": [
           {
            "marker": {
             "colorbar": {
              "outlinewidth": 0,
              "ticks": ""
             }
            },
            "type": "scattermapbox"
           }
          ],
          "scatterpolar": [
           {
            "marker": {
             "colorbar": {
              "outlinewidth": 0,
              "ticks": ""
             }
            },
            "type": "scatterpolar"
           }
          ],
          "scatterpolargl": [
           {
            "marker": {
             "colorbar": {
              "outlinewidth": 0,
              "ticks": ""
             }
            },
            "type": "scatterpolargl"
           }
          ],
          "scatterternary": [
           {
            "marker": {
             "colorbar": {
              "outlinewidth": 0,
              "ticks": ""
             }
            },
            "type": "scatterternary"
           }
          ],
          "surface": [
           {
            "colorbar": {
             "outlinewidth": 0,
             "ticks": ""
            },
            "colorscale": [
             [
              0,
              "#0d0887"
             ],
             [
              0.1111111111111111,
              "#46039f"
             ],
             [
              0.2222222222222222,
              "#7201a8"
             ],
             [
              0.3333333333333333,
              "#9c179e"
             ],
             [
              0.4444444444444444,
              "#bd3786"
             ],
             [
              0.5555555555555556,
              "#d8576b"
             ],
             [
              0.6666666666666666,
              "#ed7953"
             ],
             [
              0.7777777777777778,
              "#fb9f3a"
             ],
             [
              0.8888888888888888,
              "#fdca26"
             ],
             [
              1,
              "#f0f921"
             ]
            ],
            "type": "surface"
           }
          ],
          "table": [
           {
            "cells": {
             "fill": {
              "color": "#EBF0F8"
             },
             "line": {
              "color": "white"
             }
            },
            "header": {
             "fill": {
              "color": "#C8D4E3"
             },
             "line": {
              "color": "white"
             }
            },
            "type": "table"
           }
          ]
         },
         "layout": {
          "annotationdefaults": {
           "arrowcolor": "#2a3f5f",
           "arrowhead": 0,
           "arrowwidth": 1
          },
          "autotypenumbers": "strict",
          "coloraxis": {
           "colorbar": {
            "outlinewidth": 0,
            "ticks": ""
           }
          },
          "colorscale": {
           "diverging": [
            [
             0,
             "#8e0152"
            ],
            [
             0.1,
             "#c51b7d"
            ],
            [
             0.2,
             "#de77ae"
            ],
            [
             0.3,
             "#f1b6da"
            ],
            [
             0.4,
             "#fde0ef"
            ],
            [
             0.5,
             "#f7f7f7"
            ],
            [
             0.6,
             "#e6f5d0"
            ],
            [
             0.7,
             "#b8e186"
            ],
            [
             0.8,
             "#7fbc41"
            ],
            [
             0.9,
             "#4d9221"
            ],
            [
             1,
             "#276419"
            ]
           ],
           "sequential": [
            [
             0,
             "#0d0887"
            ],
            [
             0.1111111111111111,
             "#46039f"
            ],
            [
             0.2222222222222222,
             "#7201a8"
            ],
            [
             0.3333333333333333,
             "#9c179e"
            ],
            [
             0.4444444444444444,
             "#bd3786"
            ],
            [
             0.5555555555555556,
             "#d8576b"
            ],
            [
             0.6666666666666666,
             "#ed7953"
            ],
            [
             0.7777777777777778,
             "#fb9f3a"
            ],
            [
             0.8888888888888888,
             "#fdca26"
            ],
            [
             1,
             "#f0f921"
            ]
           ],
           "sequentialminus": [
            [
             0,
             "#0d0887"
            ],
            [
             0.1111111111111111,
             "#46039f"
            ],
            [
             0.2222222222222222,
             "#7201a8"
            ],
            [
             0.3333333333333333,
             "#9c179e"
            ],
            [
             0.4444444444444444,
             "#bd3786"
            ],
            [
             0.5555555555555556,
             "#d8576b"
            ],
            [
             0.6666666666666666,
             "#ed7953"
            ],
            [
             0.7777777777777778,
             "#fb9f3a"
            ],
            [
             0.8888888888888888,
             "#fdca26"
            ],
            [
             1,
             "#f0f921"
            ]
           ]
          },
          "colorway": [
           "#636efa",
           "#EF553B",
           "#00cc96",
           "#ab63fa",
           "#FFA15A",
           "#19d3f3",
           "#FF6692",
           "#B6E880",
           "#FF97FF",
           "#FECB52"
          ],
          "font": {
           "color": "#2a3f5f"
          },
          "geo": {
           "bgcolor": "white",
           "lakecolor": "white",
           "landcolor": "#E5ECF6",
           "showlakes": true,
           "showland": true,
           "subunitcolor": "white"
          },
          "hoverlabel": {
           "align": "left"
          },
          "hovermode": "closest",
          "mapbox": {
           "style": "light"
          },
          "paper_bgcolor": "white",
          "plot_bgcolor": "#E5ECF6",
          "polar": {
           "angularaxis": {
            "gridcolor": "white",
            "linecolor": "white",
            "ticks": ""
           },
           "bgcolor": "#E5ECF6",
           "radialaxis": {
            "gridcolor": "white",
            "linecolor": "white",
            "ticks": ""
           }
          },
          "scene": {
           "xaxis": {
            "backgroundcolor": "#E5ECF6",
            "gridcolor": "white",
            "gridwidth": 2,
            "linecolor": "white",
            "showbackground": true,
            "ticks": "",
            "zerolinecolor": "white"
           },
           "yaxis": {
            "backgroundcolor": "#E5ECF6",
            "gridcolor": "white",
            "gridwidth": 2,
            "linecolor": "white",
            "showbackground": true,
            "ticks": "",
            "zerolinecolor": "white"
           },
           "zaxis": {
            "backgroundcolor": "#E5ECF6",
            "gridcolor": "white",
            "gridwidth": 2,
            "linecolor": "white",
            "showbackground": true,
            "ticks": "",
            "zerolinecolor": "white"
           }
          },
          "shapedefaults": {
           "line": {
            "color": "#2a3f5f"
           }
          },
          "ternary": {
           "aaxis": {
            "gridcolor": "white",
            "linecolor": "white",
            "ticks": ""
           },
           "baxis": {
            "gridcolor": "white",
            "linecolor": "white",
            "ticks": ""
           },
           "bgcolor": "#E5ECF6",
           "caxis": {
            "gridcolor": "white",
            "linecolor": "white",
            "ticks": ""
           }
          },
          "title": {
           "x": 0.05
          },
          "xaxis": {
           "automargin": true,
           "gridcolor": "white",
           "linecolor": "white",
           "ticks": "",
           "title": {
            "standoff": 15
           },
           "zerolinecolor": "white",
           "zerolinewidth": 2
          },
          "yaxis": {
           "automargin": true,
           "gridcolor": "white",
           "linecolor": "white",
           "ticks": "",
           "title": {
            "standoff": 15
           },
           "zerolinecolor": "white",
           "zerolinewidth": 2
          }
         }
        },
        "title": {
         "text": "3D Scatter Plot: Age, Salary, and Performance Score"
        }
       }
      }
     },
     "metadata": {},
     "output_type": "display_data"
    }
   ],
   "source": [
    "fig_3d = px.scatter_3d(\n",
    "    df,\n",
    "    x=\"Age\",\n",
    "    y=\"Salary\",\n",
    "    z=\"PerformanceScore\",\n",
    "    color=\"Department\",\n",
    "    title=\"3D Scatter Plot: Age, Salary, and Performance Score\",\n",
    ")\n",
    "fig_3d.show()"
   ]
  },
  {
   "cell_type": "markdown",
   "id": "d1709a47-7593-4f97-ae4c-bbc2871e3f78",
   "metadata": {},
   "source": [
    "\n",
    "\n",
    "# 7. ADVANCED LAYOUT CUSTOMIZATION\n",
    "We'll customize the layout of our 2D scatter plot to demonstrate\n",
    "how to modify titles, legends, axes, and more using Plotly."
   ]
  },
  {
   "cell_type": "code",
   "execution_count": 7,
   "id": "ef5740aa-0ad1-40b1-bed1-4ed0407619e4",
   "metadata": {},
   "outputs": [
    {
     "data": {
      "application/vnd.plotly.v1+json": {
       "config": {
        "plotlyServerURL": "https://plot.ly"
       },
       "data": [
        {
         "hovertemplate": "Department=HR<br>Age=%{x}<br>Salary=%{y}<br>PerformanceScore=%{marker.size}<extra></extra>",
         "legendgroup": "HR",
         "marker": {
          "color": "#636efa",
          "size": [
           4.59,
           7.7,
           7.2,
           1.52,
           9.24,
           4.98,
           3.16,
           6.91,
           1.83,
           3.8,
           9.82,
           2.58,
           1.15,
           7.87,
           5.18,
           9.54,
           3.35,
           6.73,
           7.09,
           2.16,
           2.86,
           3.35,
           7.24,
           9.43,
           1.35,
           9.71,
           5.93,
           6.12,
           7.58,
           6.22,
           8.8,
           6.06,
           4.4,
           4.51,
           1.9,
           9.63,
           9.61,
           1.83,
           6.42,
           8.03,
           2.02,
           9.96,
           5.91,
           9.72,
           8.53,
           8.8,
           8.55,
           4.83,
           4.57,
           9.03,
           5.62,
           6.33,
           7.37,
           3.97,
           4.91,
           3.28
          ],
          "sizemode": "area",
          "sizeref": 0.024900000000000002,
          "symbol": "circle"
         },
         "mode": "markers",
         "name": "HR",
         "orientation": "v",
         "showlegend": true,
         "type": "scatter",
         "x": [
          58,
          34,
          42,
          30,
          30,
          43,
          55,
          43,
          44,
          47,
          35,
          34,
          22,
          56,
          28,
          23,
          33,
          36,
          59,
          21,
          53,
          35,
          43,
          44,
          48,
          20,
          44,
          28,
          20,
          30,
          36,
          27,
          58,
          28,
          31,
          52,
          56,
          54,
          20,
          22,
          20,
          33,
          28,
          34,
          32,
          51,
          58,
          51,
          49,
          56,
          58,
          41,
          21,
          49,
          30,
          47
         ],
         "xaxis": "x",
         "y": [
          53776,
          96842,
          39474,
          135830,
          88053,
          51959,
          35530,
          43545,
          98840,
          84384,
          81005,
          76576,
          69353,
          92003,
          95318,
          53664,
          115616,
          68623,
          85680,
          149937,
          93734,
          82083,
          95733,
          64698,
          140078,
          52671,
          55184,
          72107,
          139893,
          121906,
          79811,
          32811,
          125742,
          32911,
          113763,
          114896,
          118614,
          38155,
          103656,
          51918,
          115981,
          46646,
          120735,
          46371,
          141472,
          32049,
          61616,
          133727,
          50932,
          147796,
          91434,
          81407,
          34499,
          42874,
          146336,
          62711
         ],
         "yaxis": "y"
        },
        {
         "hovertemplate": "Department=Sales<br>Age=%{x}<br>Salary=%{y}<br>PerformanceScore=%{marker.size}<extra></extra>",
         "legendgroup": "Sales",
         "marker": {
          "color": "#EF553B",
          "size": [
           4.9,
           2.66,
           1.84,
           7.57,
           1.43,
           2.08,
           4.08,
           1.85,
           4.12,
           6.85,
           1.43,
           9.4,
           6.54,
           9.5,
           8.3,
           2.93,
           4.4,
           6.56,
           4.47,
           4.07,
           4.14,
           4.76,
           4.81,
           6.18,
           2.15,
           3.25,
           3.14,
           5.81,
           3.68,
           1.48,
           7.09,
           5.98,
           2.91,
           9.52,
           9.38,
           9.77,
           1.5,
           7.35,
           2.32,
           3.1,
           9.17,
           5.34,
           4.4,
           7.35,
           4.65
          ],
          "sizemode": "area",
          "sizeref": 0.024900000000000002,
          "symbol": "circle"
         },
         "mode": "markers",
         "name": "Sales",
         "orientation": "v",
         "showlegend": true,
         "type": "scatter",
         "x": [
          48,
          40,
          59,
          57,
          21,
          31,
          41,
          46,
          40,
          58,
          37,
          45,
          26,
          27,
          25,
          55,
          33,
          34,
          42,
          40,
          45,
          34,
          26,
          43,
          27,
          43,
          24,
          47,
          27,
          53,
          54,
          54,
          56,
          33,
          24,
          45,
          58,
          34,
          42,
          34,
          26,
          25,
          47,
          47,
          44
         ],
         "xaxis": "x",
         "y": [
          60080,
          36776,
          124856,
          64766,
          103530,
          125839,
          146183,
          148451,
          82733,
          139953,
          119474,
          145386,
          142859,
          142181,
          117092,
          82662,
          128506,
          148906,
          67157,
          136308,
          119045,
          110623,
          123384,
          116202,
          81663,
          45708,
          64754,
          136642,
          97270,
          38680,
          130689,
          69384,
          142561,
          77254,
          90713,
          60306,
          76843,
          137512,
          59855,
          102694,
          45151,
          36295,
          89040,
          42183,
          35539
         ],
         "yaxis": "y"
        },
        {
         "hovertemplate": "Department=IT<br>Age=%{x}<br>Salary=%{y}<br>PerformanceScore=%{marker.size}<extra></extra>",
         "legendgroup": "IT",
         "marker": {
          "color": "#00cc96",
          "size": [
           3.26,
           1.73,
           4.85,
           2.65,
           9.41,
           6.74,
           5.65,
           4.92,
           6.09,
           2.43,
           8.26,
           8.98,
           1.14,
           5.51,
           5.85,
           7.16,
           9.5,
           8.8,
           8.21,
           6.16,
           8.39,
           6.63,
           8.38,
           6.86,
           3.47,
           1.35,
           4.03,
           6.9,
           7.13,
           5.46,
           3.15,
           7.12,
           7.66,
           5.47,
           8.62,
           4.19,
           5.34,
           5.44,
           1.75,
           7.63,
           7.19,
           3,
           6.23,
           8.77,
           8.92,
           3.13,
           4.15,
           3.24,
           6.14
          ],
          "sizemode": "area",
          "sizeref": 0.024900000000000002,
          "symbol": "circle"
         },
         "mode": "markers",
         "name": "IT",
         "orientation": "v",
         "showlegend": true,
         "type": "scatter",
         "x": [
          27,
          58,
          38,
          43,
          22,
          41,
          21,
          49,
          40,
          52,
          26,
          44,
          28,
          21,
          39,
          47,
          54,
          33,
          55,
          23,
          23,
          48,
          37,
          45,
          29,
          50,
          27,
          33,
          59,
          37,
          54,
          54,
          52,
          26,
          42,
          43,
          59,
          41,
          46,
          46,
          45,
          23,
          48,
          55,
          32,
          51,
          47,
          39,
          58
         ],
         "xaxis": "x",
         "y": [
          91373,
          122787,
          85016,
          149101,
          33748,
          127504,
          128098,
          96199,
          123557,
          91087,
          113211,
          97172,
          123264,
          56736,
          124209,
          133041,
          30854,
          120084,
          37392,
          76717,
          80859,
          134095,
          56309,
          117455,
          100467,
          139751,
          42688,
          55342,
          97863,
          136081,
          86250,
          142547,
          102082,
          41411,
          113879,
          101295,
          41111,
          67504,
          31802,
          126601,
          107371,
          142893,
          73016,
          37400,
          147858,
          72642,
          96690,
          59299,
          137941
         ],
         "yaxis": "y"
        }
       ],
       "layout": {
        "font": {
         "color": "black",
         "family": "Arial, Helvetica, sans-serif",
         "size": 14
        },
        "legend": {
         "itemsizing": "constant",
         "title": {
          "text": "Department Legend"
         },
         "tracegroupgap": 0
        },
        "template": {
         "data": {
          "bar": [
           {
            "error_x": {
             "color": "#2a3f5f"
            },
            "error_y": {
             "color": "#2a3f5f"
            },
            "marker": {
             "line": {
              "color": "#E5ECF6",
              "width": 0.5
             },
             "pattern": {
              "fillmode": "overlay",
              "size": 10,
              "solidity": 0.2
             }
            },
            "type": "bar"
           }
          ],
          "barpolar": [
           {
            "marker": {
             "line": {
              "color": "#E5ECF6",
              "width": 0.5
             },
             "pattern": {
              "fillmode": "overlay",
              "size": 10,
              "solidity": 0.2
             }
            },
            "type": "barpolar"
           }
          ],
          "carpet": [
           {
            "aaxis": {
             "endlinecolor": "#2a3f5f",
             "gridcolor": "white",
             "linecolor": "white",
             "minorgridcolor": "white",
             "startlinecolor": "#2a3f5f"
            },
            "baxis": {
             "endlinecolor": "#2a3f5f",
             "gridcolor": "white",
             "linecolor": "white",
             "minorgridcolor": "white",
             "startlinecolor": "#2a3f5f"
            },
            "type": "carpet"
           }
          ],
          "choropleth": [
           {
            "colorbar": {
             "outlinewidth": 0,
             "ticks": ""
            },
            "type": "choropleth"
           }
          ],
          "contour": [
           {
            "colorbar": {
             "outlinewidth": 0,
             "ticks": ""
            },
            "colorscale": [
             [
              0,
              "#0d0887"
             ],
             [
              0.1111111111111111,
              "#46039f"
             ],
             [
              0.2222222222222222,
              "#7201a8"
             ],
             [
              0.3333333333333333,
              "#9c179e"
             ],
             [
              0.4444444444444444,
              "#bd3786"
             ],
             [
              0.5555555555555556,
              "#d8576b"
             ],
             [
              0.6666666666666666,
              "#ed7953"
             ],
             [
              0.7777777777777778,
              "#fb9f3a"
             ],
             [
              0.8888888888888888,
              "#fdca26"
             ],
             [
              1,
              "#f0f921"
             ]
            ],
            "type": "contour"
           }
          ],
          "contourcarpet": [
           {
            "colorbar": {
             "outlinewidth": 0,
             "ticks": ""
            },
            "type": "contourcarpet"
           }
          ],
          "heatmap": [
           {
            "colorbar": {
             "outlinewidth": 0,
             "ticks": ""
            },
            "colorscale": [
             [
              0,
              "#0d0887"
             ],
             [
              0.1111111111111111,
              "#46039f"
             ],
             [
              0.2222222222222222,
              "#7201a8"
             ],
             [
              0.3333333333333333,
              "#9c179e"
             ],
             [
              0.4444444444444444,
              "#bd3786"
             ],
             [
              0.5555555555555556,
              "#d8576b"
             ],
             [
              0.6666666666666666,
              "#ed7953"
             ],
             [
              0.7777777777777778,
              "#fb9f3a"
             ],
             [
              0.8888888888888888,
              "#fdca26"
             ],
             [
              1,
              "#f0f921"
             ]
            ],
            "type": "heatmap"
           }
          ],
          "heatmapgl": [
           {
            "colorbar": {
             "outlinewidth": 0,
             "ticks": ""
            },
            "colorscale": [
             [
              0,
              "#0d0887"
             ],
             [
              0.1111111111111111,
              "#46039f"
             ],
             [
              0.2222222222222222,
              "#7201a8"
             ],
             [
              0.3333333333333333,
              "#9c179e"
             ],
             [
              0.4444444444444444,
              "#bd3786"
             ],
             [
              0.5555555555555556,
              "#d8576b"
             ],
             [
              0.6666666666666666,
              "#ed7953"
             ],
             [
              0.7777777777777778,
              "#fb9f3a"
             ],
             [
              0.8888888888888888,
              "#fdca26"
             ],
             [
              1,
              "#f0f921"
             ]
            ],
            "type": "heatmapgl"
           }
          ],
          "histogram": [
           {
            "marker": {
             "pattern": {
              "fillmode": "overlay",
              "size": 10,
              "solidity": 0.2
             }
            },
            "type": "histogram"
           }
          ],
          "histogram2d": [
           {
            "colorbar": {
             "outlinewidth": 0,
             "ticks": ""
            },
            "colorscale": [
             [
              0,
              "#0d0887"
             ],
             [
              0.1111111111111111,
              "#46039f"
             ],
             [
              0.2222222222222222,
              "#7201a8"
             ],
             [
              0.3333333333333333,
              "#9c179e"
             ],
             [
              0.4444444444444444,
              "#bd3786"
             ],
             [
              0.5555555555555556,
              "#d8576b"
             ],
             [
              0.6666666666666666,
              "#ed7953"
             ],
             [
              0.7777777777777778,
              "#fb9f3a"
             ],
             [
              0.8888888888888888,
              "#fdca26"
             ],
             [
              1,
              "#f0f921"
             ]
            ],
            "type": "histogram2d"
           }
          ],
          "histogram2dcontour": [
           {
            "colorbar": {
             "outlinewidth": 0,
             "ticks": ""
            },
            "colorscale": [
             [
              0,
              "#0d0887"
             ],
             [
              0.1111111111111111,
              "#46039f"
             ],
             [
              0.2222222222222222,
              "#7201a8"
             ],
             [
              0.3333333333333333,
              "#9c179e"
             ],
             [
              0.4444444444444444,
              "#bd3786"
             ],
             [
              0.5555555555555556,
              "#d8576b"
             ],
             [
              0.6666666666666666,
              "#ed7953"
             ],
             [
              0.7777777777777778,
              "#fb9f3a"
             ],
             [
              0.8888888888888888,
              "#fdca26"
             ],
             [
              1,
              "#f0f921"
             ]
            ],
            "type": "histogram2dcontour"
           }
          ],
          "mesh3d": [
           {
            "colorbar": {
             "outlinewidth": 0,
             "ticks": ""
            },
            "type": "mesh3d"
           }
          ],
          "parcoords": [
           {
            "line": {
             "colorbar": {
              "outlinewidth": 0,
              "ticks": ""
             }
            },
            "type": "parcoords"
           }
          ],
          "pie": [
           {
            "automargin": true,
            "type": "pie"
           }
          ],
          "scatter": [
           {
            "fillpattern": {
             "fillmode": "overlay",
             "size": 10,
             "solidity": 0.2
            },
            "type": "scatter"
           }
          ],
          "scatter3d": [
           {
            "line": {
             "colorbar": {
              "outlinewidth": 0,
              "ticks": ""
             }
            },
            "marker": {
             "colorbar": {
              "outlinewidth": 0,
              "ticks": ""
             }
            },
            "type": "scatter3d"
           }
          ],
          "scattercarpet": [
           {
            "marker": {
             "colorbar": {
              "outlinewidth": 0,
              "ticks": ""
             }
            },
            "type": "scattercarpet"
           }
          ],
          "scattergeo": [
           {
            "marker": {
             "colorbar": {
              "outlinewidth": 0,
              "ticks": ""
             }
            },
            "type": "scattergeo"
           }
          ],
          "scattergl": [
           {
            "marker": {
             "colorbar": {
              "outlinewidth": 0,
              "ticks": ""
             }
            },
            "type": "scattergl"
           }
          ],
          "scattermapbox": [
           {
            "marker": {
             "colorbar": {
              "outlinewidth": 0,
              "ticks": ""
             }
            },
            "type": "scattermapbox"
           }
          ],
          "scatterpolar": [
           {
            "marker": {
             "colorbar": {
              "outlinewidth": 0,
              "ticks": ""
             }
            },
            "type": "scatterpolar"
           }
          ],
          "scatterpolargl": [
           {
            "marker": {
             "colorbar": {
              "outlinewidth": 0,
              "ticks": ""
             }
            },
            "type": "scatterpolargl"
           }
          ],
          "scatterternary": [
           {
            "marker": {
             "colorbar": {
              "outlinewidth": 0,
              "ticks": ""
             }
            },
            "type": "scatterternary"
           }
          ],
          "surface": [
           {
            "colorbar": {
             "outlinewidth": 0,
             "ticks": ""
            },
            "colorscale": [
             [
              0,
              "#0d0887"
             ],
             [
              0.1111111111111111,
              "#46039f"
             ],
             [
              0.2222222222222222,
              "#7201a8"
             ],
             [
              0.3333333333333333,
              "#9c179e"
             ],
             [
              0.4444444444444444,
              "#bd3786"
             ],
             [
              0.5555555555555556,
              "#d8576b"
             ],
             [
              0.6666666666666666,
              "#ed7953"
             ],
             [
              0.7777777777777778,
              "#fb9f3a"
             ],
             [
              0.8888888888888888,
              "#fdca26"
             ],
             [
              1,
              "#f0f921"
             ]
            ],
            "type": "surface"
           }
          ],
          "table": [
           {
            "cells": {
             "fill": {
              "color": "#EBF0F8"
             },
             "line": {
              "color": "white"
             }
            },
            "header": {
             "fill": {
              "color": "#C8D4E3"
             },
             "line": {
              "color": "white"
             }
            },
            "type": "table"
           }
          ]
         },
         "layout": {
          "annotationdefaults": {
           "arrowcolor": "#2a3f5f",
           "arrowhead": 0,
           "arrowwidth": 1
          },
          "autotypenumbers": "strict",
          "coloraxis": {
           "colorbar": {
            "outlinewidth": 0,
            "ticks": ""
           }
          },
          "colorscale": {
           "diverging": [
            [
             0,
             "#8e0152"
            ],
            [
             0.1,
             "#c51b7d"
            ],
            [
             0.2,
             "#de77ae"
            ],
            [
             0.3,
             "#f1b6da"
            ],
            [
             0.4,
             "#fde0ef"
            ],
            [
             0.5,
             "#f7f7f7"
            ],
            [
             0.6,
             "#e6f5d0"
            ],
            [
             0.7,
             "#b8e186"
            ],
            [
             0.8,
             "#7fbc41"
            ],
            [
             0.9,
             "#4d9221"
            ],
            [
             1,
             "#276419"
            ]
           ],
           "sequential": [
            [
             0,
             "#0d0887"
            ],
            [
             0.1111111111111111,
             "#46039f"
            ],
            [
             0.2222222222222222,
             "#7201a8"
            ],
            [
             0.3333333333333333,
             "#9c179e"
            ],
            [
             0.4444444444444444,
             "#bd3786"
            ],
            [
             0.5555555555555556,
             "#d8576b"
            ],
            [
             0.6666666666666666,
             "#ed7953"
            ],
            [
             0.7777777777777778,
             "#fb9f3a"
            ],
            [
             0.8888888888888888,
             "#fdca26"
            ],
            [
             1,
             "#f0f921"
            ]
           ],
           "sequentialminus": [
            [
             0,
             "#0d0887"
            ],
            [
             0.1111111111111111,
             "#46039f"
            ],
            [
             0.2222222222222222,
             "#7201a8"
            ],
            [
             0.3333333333333333,
             "#9c179e"
            ],
            [
             0.4444444444444444,
             "#bd3786"
            ],
            [
             0.5555555555555556,
             "#d8576b"
            ],
            [
             0.6666666666666666,
             "#ed7953"
            ],
            [
             0.7777777777777778,
             "#fb9f3a"
            ],
            [
             0.8888888888888888,
             "#fdca26"
            ],
            [
             1,
             "#f0f921"
            ]
           ]
          },
          "colorway": [
           "#636efa",
           "#EF553B",
           "#00cc96",
           "#ab63fa",
           "#FFA15A",
           "#19d3f3",
           "#FF6692",
           "#B6E880",
           "#FF97FF",
           "#FECB52"
          ],
          "font": {
           "color": "#2a3f5f"
          },
          "geo": {
           "bgcolor": "white",
           "lakecolor": "white",
           "landcolor": "#E5ECF6",
           "showlakes": true,
           "showland": true,
           "subunitcolor": "white"
          },
          "hoverlabel": {
           "align": "left"
          },
          "hovermode": "closest",
          "mapbox": {
           "style": "light"
          },
          "paper_bgcolor": "white",
          "plot_bgcolor": "#E5ECF6",
          "polar": {
           "angularaxis": {
            "gridcolor": "white",
            "linecolor": "white",
            "ticks": ""
           },
           "bgcolor": "#E5ECF6",
           "radialaxis": {
            "gridcolor": "white",
            "linecolor": "white",
            "ticks": ""
           }
          },
          "scene": {
           "xaxis": {
            "backgroundcolor": "#E5ECF6",
            "gridcolor": "white",
            "gridwidth": 2,
            "linecolor": "white",
            "showbackground": true,
            "ticks": "",
            "zerolinecolor": "white"
           },
           "yaxis": {
            "backgroundcolor": "#E5ECF6",
            "gridcolor": "white",
            "gridwidth": 2,
            "linecolor": "white",
            "showbackground": true,
            "ticks": "",
            "zerolinecolor": "white"
           },
           "zaxis": {
            "backgroundcolor": "#E5ECF6",
            "gridcolor": "white",
            "gridwidth": 2,
            "linecolor": "white",
            "showbackground": true,
            "ticks": "",
            "zerolinecolor": "white"
           }
          },
          "shapedefaults": {
           "line": {
            "color": "#2a3f5f"
           }
          },
          "ternary": {
           "aaxis": {
            "gridcolor": "white",
            "linecolor": "white",
            "ticks": ""
           },
           "baxis": {
            "gridcolor": "white",
            "linecolor": "white",
            "ticks": ""
           },
           "bgcolor": "#E5ECF6",
           "caxis": {
            "gridcolor": "white",
            "linecolor": "white",
            "ticks": ""
           }
          },
          "title": {
           "x": 0.05
          },
          "xaxis": {
           "automargin": true,
           "gridcolor": "white",
           "linecolor": "white",
           "ticks": "",
           "title": {
            "standoff": 15
           },
           "zerolinecolor": "white",
           "zerolinewidth": 2
          },
          "yaxis": {
           "automargin": true,
           "gridcolor": "white",
           "linecolor": "white",
           "ticks": "",
           "title": {
            "standoff": 15
           },
           "zerolinecolor": "white",
           "zerolinewidth": 2
          }
         }
        },
        "title": {
         "text": "Age vs. Salary (Customized Layout)",
         "x": 0.5,
         "xanchor": "center"
        },
        "xaxis": {
         "anchor": "y",
         "domain": [
          0,
          1
         ],
         "title": {
          "text": "Employee Age (Years)"
         }
        },
        "yaxis": {
         "anchor": "x",
         "domain": [
          0,
          1
         ],
         "title": {
          "text": "Salary (USD per Year)"
         }
        }
       }
      }
     },
     "metadata": {},
     "output_type": "display_data"
    }
   ],
   "source": [
    "fig_custom_layout = px.scatter(\n",
    "    df,\n",
    "    x=\"Age\",\n",
    "    y=\"Salary\",\n",
    "    color=\"Department\",\n",
    "    size=\"PerformanceScore\",\n",
    "    title=\"Advanced Layout Customization: Age vs. Salary\",\n",
    ")\n",
    "\n",
    "# Update various layout elements\n",
    "fig_custom_layout.update_layout(\n",
    "    title=dict(\n",
    "        text=\"Age vs. Salary (Customized Layout)\", x=0.5, xanchor=\"center\"  # Center the chart title\n",
    "    ),\n",
    "    xaxis_title=\"Employee Age (Years)\",\n",
    "    yaxis_title=\"Salary (USD per Year)\",\n",
    "    legend_title_text=\"Department Legend\",\n",
    "    font=dict(family=\"Arial, Helvetica, sans-serif\", size=14, color=\"black\"),\n",
    ")\n",
    "\n",
    "fig_custom_layout.show()"
   ]
  }
 ],
 "metadata": {
  "kernelspec": {
   "display_name": "yt312",
   "language": "python",
   "name": "python3"
  },
  "language_info": {
   "codemirror_mode": {
    "name": "ipython",
    "version": 3
   },
   "file_extension": ".py",
   "mimetype": "text/x-python",
   "name": "python",
   "nbconvert_exporter": "python",
   "pygments_lexer": "ipython3",
   "version": "3.12.7"
  }
 },
 "nbformat": 4,
 "nbformat_minor": 2
}
