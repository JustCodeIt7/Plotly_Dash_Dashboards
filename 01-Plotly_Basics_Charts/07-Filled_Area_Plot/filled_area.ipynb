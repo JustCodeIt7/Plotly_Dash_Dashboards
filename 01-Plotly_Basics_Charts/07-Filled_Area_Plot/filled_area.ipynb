{
 "cells": [
  {
   "cell_type": "code",
   "execution_count": null,
   "id": "initial_id",
   "metadata": {
    "ExecuteTime": {
     "end_time": "2025-03-10T18:02:21.311550Z",
     "start_time": "2025-03-10T18:02:21.021919Z"
    },
    "collapsed": true
   },
   "outputs": [
    {
     "data": {
      "application/vnd.plotly.v1+json": {
       "config": {
        "plotlyServerURL": "https://plot.ly"
       },
       "data": [
        {
         "line": {
          "color": "rgb(255, 127, 14)",
          "width": 0.5
         },
         "mode": "lines",
         "name": "Max Temperature",
         "type": "scatter",
         "x": [
          "Monday",
          "Tuesday",
          "Wednesday",
          "Thursday",
          "Friday",
          "Saturday",
          "Sunday"
         ],
         "y": [
          82,
          79,
          84,
          89,
          85,
          90,
          86
         ]
        },
        {
         "fill": "tonexty",
         "line": {
          "color": "rgb(31, 119, 180)",
          "width": 0.5
         },
         "mode": "lines",
         "name": "Min Temperature",
         "type": "scatter",
         "x": [
          "Monday",
          "Tuesday",
          "Wednesday",
          "Thursday",
          "Friday",
          "Saturday",
          "Sunday"
         ],
         "y": [
          68,
          65,
          70,
          72,
          69,
          73,
          71
         ]
        }
       ],
       "layout": {
        "hovermode": "x unified",
        "template": {
         "data": {
          "bar": [
           {
            "error_x": {
             "color": "#2a3f5f"
            },
            "error_y": {
             "color": "#2a3f5f"
            },
            "marker": {
             "line": {
              "color": "#E5ECF6",
              "width": 0.5
             },
             "pattern": {
              "fillmode": "overlay",
              "size": 10,
              "solidity": 0.2
             }
            },
            "type": "bar"
           }
          ],
          "barpolar": [
           {
            "marker": {
             "line": {
              "color": "#E5ECF6",
              "width": 0.5
             },
             "pattern": {
              "fillmode": "overlay",
              "size": 10,
              "solidity": 0.2
             }
            },
            "type": "barpolar"
           }
          ],
          "carpet": [
           {
            "aaxis": {
             "endlinecolor": "#2a3f5f",
             "gridcolor": "white",
             "linecolor": "white",
             "minorgridcolor": "white",
             "startlinecolor": "#2a3f5f"
            },
            "baxis": {
             "endlinecolor": "#2a3f5f",
             "gridcolor": "white",
             "linecolor": "white",
             "minorgridcolor": "white",
             "startlinecolor": "#2a3f5f"
            },
            "type": "carpet"
           }
          ],
          "choropleth": [
           {
            "colorbar": {
             "outlinewidth": 0,
             "ticks": ""
            },
            "type": "choropleth"
           }
          ],
          "contour": [
           {
            "colorbar": {
             "outlinewidth": 0,
             "ticks": ""
            },
            "colorscale": [
             [
              0,
              "#0d0887"
             ],
             [
              0.1111111111111111,
              "#46039f"
             ],
             [
              0.2222222222222222,
              "#7201a8"
             ],
             [
              0.3333333333333333,
              "#9c179e"
             ],
             [
              0.4444444444444444,
              "#bd3786"
             ],
             [
              0.5555555555555556,
              "#d8576b"
             ],
             [
              0.6666666666666666,
              "#ed7953"
             ],
             [
              0.7777777777777778,
              "#fb9f3a"
             ],
             [
              0.8888888888888888,
              "#fdca26"
             ],
             [
              1,
              "#f0f921"
             ]
            ],
            "type": "contour"
           }
          ],
          "contourcarpet": [
           {
            "colorbar": {
             "outlinewidth": 0,
             "ticks": ""
            },
            "type": "contourcarpet"
           }
          ],
          "heatmap": [
           {
            "colorbar": {
             "outlinewidth": 0,
             "ticks": ""
            },
            "colorscale": [
             [
              0,
              "#0d0887"
             ],
             [
              0.1111111111111111,
              "#46039f"
             ],
             [
              0.2222222222222222,
              "#7201a8"
             ],
             [
              0.3333333333333333,
              "#9c179e"
             ],
             [
              0.4444444444444444,
              "#bd3786"
             ],
             [
              0.5555555555555556,
              "#d8576b"
             ],
             [
              0.6666666666666666,
              "#ed7953"
             ],
             [
              0.7777777777777778,
              "#fb9f3a"
             ],
             [
              0.8888888888888888,
              "#fdca26"
             ],
             [
              1,
              "#f0f921"
             ]
            ],
            "type": "heatmap"
           }
          ],
          "heatmapgl": [
           {
            "colorbar": {
             "outlinewidth": 0,
             "ticks": ""
            },
            "colorscale": [
             [
              0,
              "#0d0887"
             ],
             [
              0.1111111111111111,
              "#46039f"
             ],
             [
              0.2222222222222222,
              "#7201a8"
             ],
             [
              0.3333333333333333,
              "#9c179e"
             ],
             [
              0.4444444444444444,
              "#bd3786"
             ],
             [
              0.5555555555555556,
              "#d8576b"
             ],
             [
              0.6666666666666666,
              "#ed7953"
             ],
             [
              0.7777777777777778,
              "#fb9f3a"
             ],
             [
              0.8888888888888888,
              "#fdca26"
             ],
             [
              1,
              "#f0f921"
             ]
            ],
            "type": "heatmapgl"
           }
          ],
          "histogram": [
           {
            "marker": {
             "pattern": {
              "fillmode": "overlay",
              "size": 10,
              "solidity": 0.2
             }
            },
            "type": "histogram"
           }
          ],
          "histogram2d": [
           {
            "colorbar": {
             "outlinewidth": 0,
             "ticks": ""
            },
            "colorscale": [
             [
              0,
              "#0d0887"
             ],
             [
              0.1111111111111111,
              "#46039f"
             ],
             [
              0.2222222222222222,
              "#7201a8"
             ],
             [
              0.3333333333333333,
              "#9c179e"
             ],
             [
              0.4444444444444444,
              "#bd3786"
             ],
             [
              0.5555555555555556,
              "#d8576b"
             ],
             [
              0.6666666666666666,
              "#ed7953"
             ],
             [
              0.7777777777777778,
              "#fb9f3a"
             ],
             [
              0.8888888888888888,
              "#fdca26"
             ],
             [
              1,
              "#f0f921"
             ]
            ],
            "type": "histogram2d"
           }
          ],
          "histogram2dcontour": [
           {
            "colorbar": {
             "outlinewidth": 0,
             "ticks": ""
            },
            "colorscale": [
             [
              0,
              "#0d0887"
             ],
             [
              0.1111111111111111,
              "#46039f"
             ],
             [
              0.2222222222222222,
              "#7201a8"
             ],
             [
              0.3333333333333333,
              "#9c179e"
             ],
             [
              0.4444444444444444,
              "#bd3786"
             ],
             [
              0.5555555555555556,
              "#d8576b"
             ],
             [
              0.6666666666666666,
              "#ed7953"
             ],
             [
              0.7777777777777778,
              "#fb9f3a"
             ],
             [
              0.8888888888888888,
              "#fdca26"
             ],
             [
              1,
              "#f0f921"
             ]
            ],
            "type": "histogram2dcontour"
           }
          ],
          "mesh3d": [
           {
            "colorbar": {
             "outlinewidth": 0,
             "ticks": ""
            },
            "type": "mesh3d"
           }
          ],
          "parcoords": [
           {
            "line": {
             "colorbar": {
              "outlinewidth": 0,
              "ticks": ""
             }
            },
            "type": "parcoords"
           }
          ],
          "pie": [
           {
            "automargin": true,
            "type": "pie"
           }
          ],
          "scatter": [
           {
            "fillpattern": {
             "fillmode": "overlay",
             "size": 10,
             "solidity": 0.2
            },
            "type": "scatter"
           }
          ],
          "scatter3d": [
           {
            "line": {
             "colorbar": {
              "outlinewidth": 0,
              "ticks": ""
             }
            },
            "marker": {
             "colorbar": {
              "outlinewidth": 0,
              "ticks": ""
             }
            },
            "type": "scatter3d"
           }
          ],
          "scattercarpet": [
           {
            "marker": {
             "colorbar": {
              "outlinewidth": 0,
              "ticks": ""
             }
            },
            "type": "scattercarpet"
           }
          ],
          "scattergeo": [
           {
            "marker": {
             "colorbar": {
              "outlinewidth": 0,
              "ticks": ""
             }
            },
            "type": "scattergeo"
           }
          ],
          "scattergl": [
           {
            "marker": {
             "colorbar": {
              "outlinewidth": 0,
              "ticks": ""
             }
            },
            "type": "scattergl"
           }
          ],
          "scattermapbox": [
           {
            "marker": {
             "colorbar": {
              "outlinewidth": 0,
              "ticks": ""
             }
            },
            "type": "scattermapbox"
           }
          ],
          "scatterpolar": [
           {
            "marker": {
             "colorbar": {
              "outlinewidth": 0,
              "ticks": ""
             }
            },
            "type": "scatterpolar"
           }
          ],
          "scatterpolargl": [
           {
            "marker": {
             "colorbar": {
              "outlinewidth": 0,
              "ticks": ""
             }
            },
            "type": "scatterpolargl"
           }
          ],
          "scatterternary": [
           {
            "marker": {
             "colorbar": {
              "outlinewidth": 0,
              "ticks": ""
             }
            },
            "type": "scatterternary"
           }
          ],
          "surface": [
           {
            "colorbar": {
             "outlinewidth": 0,
             "ticks": ""
            },
            "colorscale": [
             [
              0,
              "#0d0887"
             ],
             [
              0.1111111111111111,
              "#46039f"
             ],
             [
              0.2222222222222222,
              "#7201a8"
             ],
             [
              0.3333333333333333,
              "#9c179e"
             ],
             [
              0.4444444444444444,
              "#bd3786"
             ],
             [
              0.5555555555555556,
              "#d8576b"
             ],
             [
              0.6666666666666666,
              "#ed7953"
             ],
             [
              0.7777777777777778,
              "#fb9f3a"
             ],
             [
              0.8888888888888888,
              "#fdca26"
             ],
             [
              1,
              "#f0f921"
             ]
            ],
            "type": "surface"
           }
          ],
          "table": [
           {
            "cells": {
             "fill": {
              "color": "#EBF0F8"
             },
             "line": {
              "color": "white"
             }
            },
            "header": {
             "fill": {
              "color": "#C8D4E3"
             },
             "line": {
              "color": "white"
             }
            },
            "type": "table"
           }
          ]
         },
         "layout": {
          "annotationdefaults": {
           "arrowcolor": "#2a3f5f",
           "arrowhead": 0,
           "arrowwidth": 1
          },
          "autotypenumbers": "strict",
          "coloraxis": {
           "colorbar": {
            "outlinewidth": 0,
            "ticks": ""
           }
          },
          "colorscale": {
           "diverging": [
            [
             0,
             "#8e0152"
            ],
            [
             0.1,
             "#c51b7d"
            ],
            [
             0.2,
             "#de77ae"
            ],
            [
             0.3,
             "#f1b6da"
            ],
            [
             0.4,
             "#fde0ef"
            ],
            [
             0.5,
             "#f7f7f7"
            ],
            [
             0.6,
             "#e6f5d0"
            ],
            [
             0.7,
             "#b8e186"
            ],
            [
             0.8,
             "#7fbc41"
            ],
            [
             0.9,
             "#4d9221"
            ],
            [
             1,
             "#276419"
            ]
           ],
           "sequential": [
            [
             0,
             "#0d0887"
            ],
            [
             0.1111111111111111,
             "#46039f"
            ],
            [
             0.2222222222222222,
             "#7201a8"
            ],
            [
             0.3333333333333333,
             "#9c179e"
            ],
            [
             0.4444444444444444,
             "#bd3786"
            ],
            [
             0.5555555555555556,
             "#d8576b"
            ],
            [
             0.6666666666666666,
             "#ed7953"
            ],
            [
             0.7777777777777778,
             "#fb9f3a"
            ],
            [
             0.8888888888888888,
             "#fdca26"
            ],
            [
             1,
             "#f0f921"
            ]
           ],
           "sequentialminus": [
            [
             0,
             "#0d0887"
            ],
            [
             0.1111111111111111,
             "#46039f"
            ],
            [
             0.2222222222222222,
             "#7201a8"
            ],
            [
             0.3333333333333333,
             "#9c179e"
            ],
            [
             0.4444444444444444,
             "#bd3786"
            ],
            [
             0.5555555555555556,
             "#d8576b"
            ],
            [
             0.6666666666666666,
             "#ed7953"
            ],
            [
             0.7777777777777778,
             "#fb9f3a"
            ],
            [
             0.8888888888888888,
             "#fdca26"
            ],
            [
             1,
             "#f0f921"
            ]
           ]
          },
          "colorway": [
           "#636efa",
           "#EF553B",
           "#00cc96",
           "#ab63fa",
           "#FFA15A",
           "#19d3f3",
           "#FF6692",
           "#B6E880",
           "#FF97FF",
           "#FECB52"
          ],
          "font": {
           "color": "#2a3f5f"
          },
          "geo": {
           "bgcolor": "white",
           "lakecolor": "white",
           "landcolor": "#E5ECF6",
           "showlakes": true,
           "showland": true,
           "subunitcolor": "white"
          },
          "hoverlabel": {
           "align": "left"
          },
          "hovermode": "closest",
          "mapbox": {
           "style": "light"
          },
          "paper_bgcolor": "white",
          "plot_bgcolor": "#E5ECF6",
          "polar": {
           "angularaxis": {
            "gridcolor": "white",
            "linecolor": "white",
            "ticks": ""
           },
           "bgcolor": "#E5ECF6",
           "radialaxis": {
            "gridcolor": "white",
            "linecolor": "white",
            "ticks": ""
           }
          },
          "scene": {
           "xaxis": {
            "backgroundcolor": "#E5ECF6",
            "gridcolor": "white",
            "gridwidth": 2,
            "linecolor": "white",
            "showbackground": true,
            "ticks": "",
            "zerolinecolor": "white"
           },
           "yaxis": {
            "backgroundcolor": "#E5ECF6",
            "gridcolor": "white",
            "gridwidth": 2,
            "linecolor": "white",
            "showbackground": true,
            "ticks": "",
            "zerolinecolor": "white"
           },
           "zaxis": {
            "backgroundcolor": "#E5ECF6",
            "gridcolor": "white",
            "gridwidth": 2,
            "linecolor": "white",
            "showbackground": true,
            "ticks": "",
            "zerolinecolor": "white"
           }
          },
          "shapedefaults": {
           "line": {
            "color": "#2a3f5f"
           }
          },
          "ternary": {
           "aaxis": {
            "gridcolor": "white",
            "linecolor": "white",
            "ticks": ""
           },
           "baxis": {
            "gridcolor": "white",
            "linecolor": "white",
            "ticks": ""
           },
           "bgcolor": "#E5ECF6",
           "caxis": {
            "gridcolor": "white",
            "linecolor": "white",
            "ticks": ""
           }
          },
          "title": {
           "x": 0.05
          },
          "xaxis": {
           "automargin": true,
           "gridcolor": "white",
           "linecolor": "white",
           "ticks": "",
           "title": {
            "standoff": 15
           },
           "zerolinecolor": "white",
           "zerolinewidth": 2
          },
          "yaxis": {
           "automargin": true,
           "gridcolor": "white",
           "linecolor": "white",
           "ticks": "",
           "title": {
            "standoff": 15
           },
           "zerolinecolor": "white",
           "zerolinewidth": 2
          }
         }
        },
        "title": {
         "text": "Weekly Temperature Range"
        },
        "xaxis": {
         "title": {
          "text": "Day of Week"
         }
        },
        "yaxis": {
         "title": {
          "text": "Temperature (°F)"
         }
        }
       }
      }
     },
     "metadata": {},
     "output_type": "display_data"
    }
   ],
   "source": [
    "import plotly.graph_objects as go\n",
    "import plotly.io as pio\n",
    "import pandas as pd\n",
    "import numpy as np\n",
    "\n",
    "# Set default renderer to browser to avoid nbformat dependency\n",
    "# pio.renderers.default = \"browser\"\n",
    "\n",
    "# Sample data\n",
    "days = ['Monday', 'Tuesday', 'Wednesday', 'Thursday', 'Friday', 'Saturday', 'Sunday']\n",
    "min_temp = [68, 65, 70, 72, 69, 73, 71]\n",
    "max_temp = [82, 79, 84, 89, 85, 90, 86]\n",
    "\n",
    "# Create a DataFrame for easier data manipulation\n",
    "df = pd.DataFrame({\n",
    "    'day': days,\n",
    "    'min_temp': min_temp,\n",
    "    'max_temp': max_temp\n",
    "})\n",
    "\n",
    "# Create figure\n",
    "fig = go.Figure()\n",
    "\n",
    "# Add filled area for temperature range\n",
    "fig.add_trace(\n",
    "    go.Scatter(\n",
    "        x=df['day'],\n",
    "        y=df['max_temp'],\n",
    "        mode='lines',\n",
    "        line=dict(width=0.5, color='rgb(255, 127, 14)'),\n",
    "        name='Max Temperature'\n",
    "    )\n",
    ")\n",
    "fig.add_trace(\n",
    "    go.Scatter(\n",
    "        x=df['day'],\n",
    "        y=df['min_temp'],\n",
    "        fill='tonexty',  # Fill to the y trace before this one\n",
    "        mode='lines',\n",
    "        line=dict(width=0.5, color='rgb(31, 119, 180)'),\n",
    "        name='Min Temperature'\n",
    "    )\n",
    ")\n",
    "\n",
    "# Update layout\n",
    "fig.update_layout(\n",
    "    title='Weekly Temperature Range',\n",
    "    xaxis_title='Day of Week',\n",
    "    yaxis_title='Temperature (°F)',\n",
    "    hovermode='x unified'\n",
    ")\n",
    "\n",
    "# Show the figure - this will now open in your browser\n",
    "fig.show()"
   ]
  },
  {
   "cell_type": "code",
   "execution_count": null,
   "id": "9df23f91588a60b7",
   "metadata": {
    "ExecuteTime": {
     "end_time": "2025-03-10T18:02:21.609954Z",
     "start_time": "2025-03-10T18:02:21.315245Z"
    }
   },
   "outputs": [],
   "source": [
    "# Generate sample stock data\n",
    "np.random.seed(42)\n",
    "dates = pd.date_range(start='2024-01-01', periods=30)\n",
    "price = 100 + np.cumsum(np.random.normal(0, 1, 30))\n",
    "ma_20 = pd.Series(price).rolling(window=7).mean()\n",
    "volatility = pd.Series(price).rolling(window=5).std() * 2\n",
    "\n",
    "# Create figure\n",
    "fig = go.Figure()\n",
    "\n",
    "# Add stock price\n",
    "fig.add_trace(go.Scatter(\n",
    "    x=dates,\n",
    "    y=price,\n",
    "    mode='lines',\n",
    "    name='Stock Price',\n",
    "    line=dict(color='darkgreen', width=2)\n",
    "))\n",
    "\n",
    "# Add moving average\n",
    "fig.add_trace(go.Scatter(\n",
    "    x=dates,\n",
    "    y=ma_20,\n",
    "    mode='lines',\n",
    "    name='7-Day MA',\n",
    "    line=dict(color='orange', width=2)\n",
    "))\n",
    "\n",
    "# Add upper volatility band\n",
    "fig.add_trace(go.Scatter(\n",
    "    x=dates,\n",
    "    y=ma_20 + volatility,\n",
    "    mode='lines',\n",
    "    line=dict(width=0),\n",
    "    showlegend=False\n",
    "))\n",
    "\n",
    "# Add lower volatility band with fill\n",
    "fig.add_trace(go.Scatter(\n",
    "    x=dates,\n",
    "    y=ma_20 - volatility,\n",
    "    mode='lines',\n",
    "    line=dict(width=0),\n",
    "    fill='tonexty',  # Fill between this trace and the previous one\n",
    "    fillcolor='rgba(255, 165, 0, 0.2)',  # Light orange with transparency\n",
    "    name='Volatility'\n",
    "))\n",
    "\n",
    "# Update layout\n",
    "fig.update_layout(\n",
    "    title='Stock Price with Moving Average and Volatility Bands',\n",
    "    xaxis_title='Date',\n",
    "    yaxis_title='Price ($)',\n",
    "    hovermode='x unified'\n",
    ")\n",
    "\n",
    "fig.show()\n",
    "\n"
   ]
  },
  {
   "cell_type": "code",
   "execution_count": null,
   "id": "be624f76e0c1f6f8",
   "metadata": {
    "ExecuteTime": {
     "end_time": "2025-03-10T18:02:21.894155Z",
     "start_time": "2025-03-10T18:02:21.620732Z"
    }
   },
   "outputs": [],
   "source": [
    "# Sample data for energy production by source over years\n",
    "years = list(range(2015, 2025))\n",
    "solar = [5, 7, 12, 18, 24, 35, 45, 60, 75, 90]\n",
    "wind = [20, 25, 30, 40, 45, 55, 65, 75, 85, 95]\n",
    "hydro = [40, 42, 41, 43, 44, 45, 46, 47, 48, 50]\n",
    "fossil = [100, 95, 90, 85, 80, 70, 60, 50, 40, 30]\n",
    "\n",
    "# Create figure\n",
    "fig = go.Figure()\n",
    "\n",
    "# Add traces for each energy source\n",
    "fig.add_trace(go.Scatter(\n",
    "    x=years, y=solar,\n",
    "    mode='lines',\n",
    "    line=dict(width=0.5, color='rgb(255, 215, 0)'),\n",
    "    stackgroup='one',\n",
    "    name='Solar'\n",
    "))\n",
    "\n",
    "fig.add_trace(go.Scatter(\n",
    "    x=years, y=wind,\n",
    "    mode='lines',\n",
    "    line=dict(width=0.5, color='rgb(100, 149, 237)'),\n",
    "    stackgroup='one',\n",
    "    name='Wind'\n",
    "))\n",
    "\n",
    "fig.add_trace(go.Scatter(\n",
    "    x=years, y=hydro,\n",
    "    mode='lines',\n",
    "    line=dict(width=0.5, color='rgb(0, 191, 255)'),\n",
    "    stackgroup='one',\n",
    "    name='Hydro'\n",
    "))\n",
    "\n",
    "fig.add_trace(go.Scatter(\n",
    "    x=years, y=fossil,\n",
    "    mode='lines',\n",
    "    line=dict(width=0.5, color='rgb(128, 128, 128)'),\n",
    "    stackgroup='one',\n",
    "    name='Fossil Fuels'\n",
    "))\n",
    "\n",
    "# Update layout\n",
    "fig.update_layout(\n",
    "    title='Energy Production by Source (2015-2024)',\n",
    "    xaxis_title='Year',\n",
    "    yaxis_title='Energy Production (TWh)',\n",
    "    hovermode='x unified',\n",
    "    legend=dict(\n",
    "        orientation=\"h\",\n",
    "        yanchor=\"bottom\",\n",
    "        y=1.02,\n",
    "        xanchor=\"right\",\n",
    "        x=1\n",
    "    )\n",
    ")\n",
    "\n",
    "fig.show()"
   ]
  },
  {
   "cell_type": "code",
   "execution_count": null,
   "id": "4230ee25482deea4",
   "metadata": {
    "ExecuteTime": {
     "end_time": "2025-03-10T18:02:22.222316Z",
     "start_time": "2025-03-10T18:02:21.903755Z"
    }
   },
   "outputs": [],
   "source": [
    "# Generate sample data for website traffic\n",
    "months = ['Jan', 'Feb', 'Mar', 'Apr', 'May', 'Jun', 'Jul', 'Aug', 'Sep', 'Oct', 'Nov', 'Dec']\n",
    "traffic = [1500, 1700, 2000, 2200, 2400, 2300, 2100, 2000, 2500, 2800, 3000, 3500]\n",
    "baseline = [1000] * 12\n",
    "\n",
    "# Create figure\n",
    "fig = go.Figure()\n",
    "\n",
    "# Add baseline\n",
    "fig.add_trace(go.Scatter(\n",
    "    x=months,\n",
    "    y=baseline,\n",
    "    mode='lines',\n",
    "    line=dict(color='rgba(0,0,0,0)'),\n",
    "    showlegend=False\n",
    "))\n",
    "\n",
    "# Add traffic data with gradient fill\n",
    "fig.add_trace(go.Scatter(\n",
    "    x=months,\n",
    "    y=traffic,\n",
    "    mode='lines+markers',\n",
    "    line=dict(color='darkblue', width=2),\n",
    "    marker=dict(size=8, color='darkblue'),\n",
    "    fill='tonexty',\n",
    "    fillgradient=dict(\n",
    "        type=\"vertical\",\n",
    "        colorscale=[(0, \"white\"), (0.5, \"lightblue\"), (1, \"royalblue\")]\n",
    "    ),\n",
    "    name='Website Visitors'\n",
    "))\n",
    "\n",
    "# Update layout\n",
    "fig.update_layout(\n",
    "    title='Monthly Website Traffic (2024)',\n",
    "    xaxis_title='Month',\n",
    "    yaxis_title='Visitors',\n",
    "    hovermode='x unified'\n",
    ")\n",
    "\n",
    "fig.show()\n"
   ]
  },
  {
   "cell_type": "code",
   "execution_count": null,
   "id": "430603cb72407a6a",
   "metadata": {
    "ExecuteTime": {
     "end_time": "2025-03-10T18:02:22.538194Z",
     "start_time": "2025-03-10T18:02:22.235092Z"
    }
   },
   "outputs": [],
   "source": [
    "# Generate sample data for revenue and costs\n",
    "quarters = ['Q1', 'Q2', 'Q3', 'Q4']\n",
    "revenue = [250000, 310000, 275000, 350000]\n",
    "costs = [180000, 200000, 190000, 210000]\n",
    "profit = [r - c for r, c in zip(revenue, costs)]\n",
    "\n",
    "# Create custom hover text\n",
    "hover_text = [f\"Quarter: {q}<br>Revenue: ${r:,}<br>Costs: ${c:,}<br>Profit: ${p:,}\"\n",
    "              for q, r, c, p in zip(quarters, revenue, costs, profit)]\n",
    "\n",
    "# Create figure\n",
    "fig = go.Figure()\n",
    "\n",
    "# Add revenue line\n",
    "fig.add_trace(go.Scatter(\n",
    "    x=quarters,\n",
    "    y=revenue,\n",
    "    mode='lines+markers',\n",
    "    name='Revenue',\n",
    "    line=dict(color='green', width=2),\n",
    "    marker=dict(size=10),\n",
    "    hoverinfo='text',\n",
    "    hovertext=hover_text\n",
    "))\n",
    "\n",
    "# Add costs line with fill to represent profit\n",
    "fig.add_trace(go.Scatter(\n",
    "    x=quarters,\n",
    "    y=costs,\n",
    "    mode='lines+markers',\n",
    "    name='Costs',\n",
    "    line=dict(color='red', width=2),\n",
    "    marker=dict(size=10),\n",
    "    fill='tonexty',  # Fill area between traces\n",
    "    fillcolor='rgba(144, 238, 144, 0.5)',  # Light green with transparency\n",
    "    hoverinfo='text',\n",
    "    hovertext=hover_text\n",
    "))\n",
    "\n",
    "# Update layout\n",
    "fig.update_layout(\n",
    "    title='Quarterly Financial Performance',\n",
    "    xaxis_title='Quarter',\n",
    "    yaxis_title='Amount ($)',\n",
    "    hovermode='x unified'\n",
    ")\n",
    "\n",
    "fig.show()\n"
   ]
  }
 ],
 "metadata": {
  "kernelspec": {
   "display_name": "py312",
   "language": "python",
   "name": "python3"
  },
  "language_info": {
   "codemirror_mode": {
    "name": "ipython",
    "version": 3
   },
   "file_extension": ".py",
   "mimetype": "text/x-python",
   "name": "python",
   "nbconvert_exporter": "python",
   "pygments_lexer": "ipython3",
   "version": "3.12.7"
  }
 },
 "nbformat": 4,
 "nbformat_minor": 5
}
