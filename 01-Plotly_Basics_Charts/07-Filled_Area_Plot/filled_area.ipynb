{
 "cells": [
  {
   "cell_type": "markdown",
   "id": "e5606503",
   "metadata": {},
   "source": [
    "# Filled Area Plot\n",
    "\n",
    "## Basic Filled Area Plot"
   ]
  },
  {
   "cell_type": "code",
   "execution_count": null,
   "id": "63eba170",
   "metadata": {},
   "outputs": [],
   "source": []
  },
  {
   "cell_type": "markdown",
   "id": "ac6d33dd",
   "metadata": {},
   "source": [
    "# Multiple lines with filled area between them\n",
    "\n",
    "This interactive plot displays the minimum and maximum temperatures throughout a week. The blue line represents the daily minimum temperatures, while the orange line shows the maximum temperatures. The shaded area between these lines illustrates the daily temperature range.\n",
    "- Days with the highest and lowest temperatures\n",
    "- Days with the largest temperature fluctuations\n",
    "- Overall temperature trends throughout the week\n"
   ]
  },
  {
   "cell_type": "code",
   "execution_count": null,
   "id": "initial_id",
   "metadata": {
    "ExecuteTime": {
     "end_time": "2025-03-10T18:02:21.311550Z",
     "start_time": "2025-03-10T18:02:21.021919Z"
    },
    "collapsed": true
   },
   "outputs": [],
   "source": []
  },
  {
   "cell_type": "markdown",
   "id": "02b625d7",
   "metadata": {},
   "source": [
    "## Filled Area Plot with Customization Calulation\n",
    "\n",
    "This section demonstrates how to create a filled area plot using Plotly Express with additional customization such as adding a moving average line and shaded volatility bands. The example uses stock price data.\n",
    "\n",
    "- The filled area plot shows the stock price over time, with the area between the moving average and the stock price shaded to indicate volatility.\n",
    "- The moving average line smooths out the stock price fluctuations, making it easier to identify trends.\n",
    "- The shaded area between the moving average and the stock price represents the volatility of the stock, with wider bands indicating higher volatility.\n",
    "- The example also includes hover information to display the stock price and moving average values when hovering over the plot."
   ]
  },
  {
   "cell_type": "code",
   "execution_count": null,
   "id": "9df23f91588a60b7",
   "metadata": {
    "ExecuteTime": {
     "end_time": "2025-03-10T18:02:21.609954Z",
     "start_time": "2025-03-10T18:02:21.315245Z"
    }
   },
   "outputs": [],
   "source": []
  },
  {
   "cell_type": "markdown",
   "id": "b2417097",
   "metadata": {},
   "source": [
    "## Stacked Area Plot\n"
   ]
  },
  {
   "cell_type": "code",
   "execution_count": null,
   "id": "be624f76e0c1f6f8",
   "metadata": {
    "ExecuteTime": {
     "end_time": "2025-03-10T18:02:21.894155Z",
     "start_time": "2025-03-10T18:02:21.620732Z"
    }
   },
   "outputs": [],
   "source": []
  }
 ],
 "metadata": {
  "kernelspec": {
   "display_name": "py312",
   "language": "python",
   "name": "python3"
  },
  "language_info": {
   "codemirror_mode": {
    "name": "ipython",
    "version": 3
   },
   "file_extension": ".py",
   "mimetype": "text/x-python",
   "name": "python",
   "nbconvert_exporter": "python",
   "pygments_lexer": "ipython3",
   "version": "3.12.7"
  }
 },
 "nbformat": 4,
 "nbformat_minor": 5
}
